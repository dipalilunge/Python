{
 "cells": [
  {
   "cell_type": "markdown",
   "id": "16cad2b3",
   "metadata": {},
   "source": [
    "# Python for datascience and Machine Learning\n",
    "\n",
    "# Steps to install anaconda\n",
    "-  Go to google type ANACONDA\n",
    "-  https://www.anaconda.com/\n",
    "-  products -- anaconda distribution\n",
    "-  https://www.anaconda.com/products/distribution ===> download the software  \n",
    "-  you get software icon \n",
    "-  if you want to install software in any drive -- you need to have minium 4gb || 10gb \n",
    "-  successfuly you installed anacondas software\n",
    "-  start -- anacoda folder -- you wil get 4 option ( cmd prompt || jupyter || spyder || anacond navigator ) \n",
    "-  anaconda navigator "
   ]
  },
  {
   "cell_type": "markdown",
   "id": "fa1643f2",
   "metadata": {},
   "source": [
    "Extension for jupyter-- .ipynb (interactive python notebook)"
   ]
  },
  {
   "cell_type": "markdown",
   "id": "5d29d941",
   "metadata": {},
   "source": [
    "Father of Python- Guido Van Rossume -name python Fun Tv show bbc \"Monty Pythons Flying Circus\" -- Released on 20th Feb 1991"
   ]
  },
  {
   "cell_type": "markdown",
   "id": "c6e7b763",
   "metadata": {},
   "source": [
    "-  Python is a high level object oriented programming language\n",
    "-  Python is a interpreted language\n",
    "-  Python is a Dynamic Programming Language\n",
    "-  Python has easy syntax\n",
    "-  less code"
   ]
  },
  {
   "cell_type": "markdown",
   "id": "942c0ecf",
   "metadata": {},
   "source": [
    "import- import is a keyword used to import the python libraries"
   ]
  },
  {
   "cell_type": "code",
   "execution_count": 338,
   "id": "cd05b435",
   "metadata": {},
   "outputs": [],
   "source": [
    "import sys\n",
    "import keyword\n",
    "import operator\n",
    "from datetime import datetime"
   ]
  },
  {
   "cell_type": "markdown",
   "id": "ca6ae3a7",
   "metadata": {},
   "source": [
    "# Keyword\n",
    "keywords  are the reserved words in python and we can not use keywords as identifier.\n",
    "-  there are 36 keywords in python\n"
   ]
  },
  {
   "cell_type": "code",
   "execution_count": 2,
   "id": "b0d2b6b4",
   "metadata": {},
   "outputs": [
    {
     "name": "stdout",
     "output_type": "stream",
     "text": [
      "['False', 'None', 'True', '__peg_parser__', 'and', 'as', 'assert', 'async', 'await', 'break', 'class', 'continue', 'def', 'del', 'elif', 'else', 'except', 'finally', 'for', 'from', 'global', 'if', 'import', 'in', 'is', 'lambda', 'nonlocal', 'not', 'or', 'pass', 'raise', 'return', 'try', 'while', 'with', 'yield']\n"
     ]
    }
   ],
   "source": [
    "print(keyword.kwlist)"
   ]
  },
  {
   "cell_type": "code",
   "execution_count": 3,
   "id": "80c9c8e6",
   "metadata": {},
   "outputs": [
    {
     "data": {
      "text/plain": [
       "36"
      ]
     },
     "execution_count": 3,
     "metadata": {},
     "output_type": "execute_result"
    }
   ],
   "source": [
    "len(keyword.kwlist)"
   ]
  },
  {
   "cell_type": "code",
   "execution_count": 339,
   "id": "fe74c0d5",
   "metadata": {},
   "outputs": [
    {
     "name": "stdout",
     "output_type": "stream",
     "text": [
      "(0, 'False')\n",
      "(1, 'None')\n",
      "(2, 'True')\n",
      "(3, '__peg_parser__')\n",
      "(4, 'and')\n",
      "(5, 'as')\n",
      "(6, 'assert')\n",
      "(7, 'async')\n",
      "(8, 'await')\n",
      "(9, 'break')\n",
      "(10, 'class')\n",
      "(11, 'continue')\n",
      "(12, 'def')\n",
      "(13, 'del')\n",
      "(14, 'elif')\n",
      "(15, 'else')\n",
      "(16, 'except')\n",
      "(17, 'finally')\n",
      "(18, 'for')\n",
      "(19, 'from')\n",
      "(20, 'global')\n",
      "(21, 'if')\n",
      "(22, 'import')\n",
      "(23, 'in')\n",
      "(24, 'is')\n",
      "(25, 'lambda')\n",
      "(26, 'nonlocal')\n",
      "(27, 'not')\n",
      "(28, 'or')\n",
      "(29, 'pass')\n",
      "(30, 'raise')\n",
      "(31, 'return')\n",
      "(32, 'try')\n",
      "(33, 'while')\n",
      "(34, 'with')\n",
      "(35, 'yield')\n"
     ]
    }
   ],
   "source": [
    "for i in enumerate(keyword.kwlist):\n",
    "   print(i)"
   ]
  },
  {
   "cell_type": "markdown",
   "id": "acfb63f0",
   "metadata": {},
   "source": [
    "# Identifiers\n",
    "An identifier is a name given to entities like class, functions, variables,etc.It helps to differentiate one entity from another\n"
   ]
  },
  {
   "cell_type": "markdown",
   "id": "23c5dbf6",
   "metadata": {},
   "source": [
    "Rules to declare identifier\n",
    "-  Identifier must starts with A-Z or a-z\n",
    "-  it can contain underscore'_'\n",
    "-  identifiers can not contain special character\n",
    "-  it can not starts with digit but can contain digits\n",
    "-  keywords cannot be used as identifier"
   ]
  },
  {
   "cell_type": "markdown",
   "id": "65a3ee5c",
   "metadata": {},
   "source": [
    "#  Comment in python\n",
    "\n",
    "-  Python comment used to explain the code for more readability\n",
    "-  It can be starts with '#' - Sigle line comment\n",
    "-  Multiline comment can be used as triple quote"
   ]
  },
  {
   "cell_type": "code",
   "execution_count": 6,
   "id": "ee832b1b",
   "metadata": {},
   "outputs": [
    {
     "data": {
      "text/plain": [
       "'multiline Comment'"
      ]
     },
     "execution_count": 6,
     "metadata": {},
     "output_type": "execute_result"
    }
   ],
   "source": [
    "# Single line comment\n",
    "\"\"\"multiline Comment\"\"\""
   ]
  },
  {
   "cell_type": "markdown",
   "id": "29ed65d1",
   "metadata": {},
   "source": [
    "#  Statement\n",
    "Statements are the instruction that python interpreter can execute"
   ]
  },
  {
   "cell_type": "code",
   "execution_count": 7,
   "id": "8453f505",
   "metadata": {},
   "outputs": [
    {
     "data": {
      "text/plain": [
       "[1, 5, 8, 9]"
      ]
     },
     "execution_count": 7,
     "metadata": {},
     "output_type": "execute_result"
    }
   ],
   "source": [
    "a=[1,5,8,9]\n",
    "a #single line statement"
   ]
  },
  {
   "cell_type": "code",
   "execution_count": 9,
   "id": "c90ef4e7",
   "metadata": {},
   "outputs": [
    {
     "data": {
      "text/plain": [
       "[35]"
      ]
     },
     "execution_count": 9,
     "metadata": {},
     "output_type": "execute_result"
    }
   ],
   "source": [
    "a=[1+4\\\n",
    "  +8+9\\\n",
    "  +13]\n",
    "a #Multiline statement"
   ]
  },
  {
   "cell_type": "markdown",
   "id": "65ca440f",
   "metadata": {},
   "source": [
    "#  Indentation\n",
    "Identation is the White Spaces present at the begining of the line of code. Python uses indentation to indicate the block of code .incorrect indentation endup with indentation error"
   ]
  },
  {
   "cell_type": "code",
   "execution_count": 10,
   "id": "29350cbb",
   "metadata": {},
   "outputs": [
    {
     "name": "stdout",
     "output_type": "stream",
     "text": [
      "15\n"
     ]
    }
   ],
   "source": [
    "a=5\n",
    "b=10\n",
    "if a+b==15:\n",
    "    print (a+b) #correct indentation"
   ]
  },
  {
   "cell_type": "code",
   "execution_count": 11,
   "id": "3af283dc",
   "metadata": {},
   "outputs": [
    {
     "ename": "IndentationError",
     "evalue": "expected an indented block (Temp/ipykernel_20220/2683209716.py, line 4)",
     "output_type": "error",
     "traceback": [
      "\u001b[1;36m  File \u001b[1;32m\"C:\\Users\\dipali\\AppData\\Local\\Temp/ipykernel_20220/2683209716.py\"\u001b[1;36m, line \u001b[1;32m4\u001b[0m\n\u001b[1;33m    print (a+b) #correct indentation\u001b[0m\n\u001b[1;37m    ^\u001b[0m\n\u001b[1;31mIndentationError\u001b[0m\u001b[1;31m:\u001b[0m expected an indented block\n"
     ]
    }
   ],
   "source": [
    "a=5\n",
    "b=10\n",
    "if a+b==15:\n",
    "print (a+b) #incorrect indentation"
   ]
  },
  {
   "cell_type": "markdown",
   "id": "8dad39fc",
   "metadata": {},
   "source": [
    "# Docstrings\n",
    "- Docstring provide a convenient way of associating documentation with functions, classes, methods or modules\n",
    "- they appear right after defining the function"
   ]
  },
  {
   "cell_type": "code",
   "execution_count": 12,
   "id": "d4610b80",
   "metadata": {},
   "outputs": [],
   "source": [
    "def square():\n",
    "    '''square function:- this function will return the square of a number'''\n",
    "    return num**2"
   ]
  },
  {
   "cell_type": "code",
   "execution_count": 13,
   "id": "90401150",
   "metadata": {},
   "outputs": [
    {
     "data": {
      "text/plain": [
       "'square function:- this function will return the square of a number'"
      ]
     },
     "execution_count": 13,
     "metadata": {},
     "output_type": "execute_result"
    }
   ],
   "source": [
    "square.__doc__"
   ]
  },
  {
   "cell_type": "markdown",
   "id": "82169331",
   "metadata": {},
   "source": [
    "# Variables\n",
    "variables are the reserved memory location to store a values.\n",
    "-  id is the  identity of the object constant for the object for its lifetime and it is a integer"
   ]
  },
  {
   "cell_type": "code",
   "execution_count": 14,
   "id": "83790f87",
   "metadata": {},
   "outputs": [
    {
     "data": {
      "text/plain": [
       "3031228311984"
      ]
     },
     "execution_count": 14,
     "metadata": {},
     "output_type": "execute_result"
    }
   ],
   "source": [
    "p=5\n",
    "id(p)"
   ]
  },
  {
   "cell_type": "code",
   "execution_count": 15,
   "id": "e2e345d2",
   "metadata": {},
   "outputs": [
    {
     "data": {
      "text/plain": [
       "'0x2c1c34969b0'"
      ]
     },
     "execution_count": 15,
     "metadata": {},
     "output_type": "execute_result"
    }
   ],
   "source": [
    "hex(id(p))"
   ]
  },
  {
   "cell_type": "code",
   "execution_count": 16,
   "id": "120d527a",
   "metadata": {},
   "outputs": [
    {
     "data": {
      "text/plain": [
       "'0b101100000111000011010010010110100110110000'"
      ]
     },
     "execution_count": 16,
     "metadata": {},
     "output_type": "execute_result"
    }
   ],
   "source": [
    "bin(id(p))"
   ]
  },
  {
   "cell_type": "code",
   "execution_count": 17,
   "id": "e315d107",
   "metadata": {},
   "outputs": [
    {
     "data": {
      "text/plain": [
       "int"
      ]
     },
     "execution_count": 17,
     "metadata": {},
     "output_type": "execute_result"
    }
   ],
   "source": [
    "type(p)"
   ]
  },
  {
   "cell_type": "code",
   "execution_count": 18,
   "id": "3e1a198e",
   "metadata": {},
   "outputs": [
    {
     "data": {
      "text/plain": [
       "6.5"
      ]
     },
     "execution_count": 18,
     "metadata": {},
     "output_type": "execute_result"
    }
   ],
   "source": [
    "intv,floatv,strv= 564,6.5,'hfgf' #Multiple value assignment\n",
    "floatv"
   ]
  },
  {
   "cell_type": "code",
   "execution_count": 19,
   "id": "f255bc2f",
   "metadata": {},
   "outputs": [
    {
     "data": {
      "text/plain": [
       "564"
      ]
     },
     "execution_count": 19,
     "metadata": {},
     "output_type": "execute_result"
    }
   ],
   "source": [
    "intv"
   ]
  },
  {
   "cell_type": "code",
   "execution_count": 20,
   "id": "5ba7224b",
   "metadata": {},
   "outputs": [
    {
     "data": {
      "text/plain": [
       "'hfgf'"
      ]
     },
     "execution_count": 20,
     "metadata": {},
     "output_type": "execute_result"
    }
   ],
   "source": [
    "strv"
   ]
  },
  {
   "cell_type": "markdown",
   "id": "2ca14b92",
   "metadata": {},
   "source": [
    "# Data Types\n",
    "-  Integer - number without decimal point ex-4655\n",
    "-  Float - number with decimal ex-6.5\n",
    "-  complex - real+imaginary ex. 5+5j\n",
    "-  string - characters written in single or double quote\n",
    "-  Boolean - True or false"
   ]
  },
  {
   "cell_type": "markdown",
   "id": "abb6e293",
   "metadata": {},
   "source": [
    "# Integer"
   ]
  },
  {
   "cell_type": "code",
   "execution_count": 34,
   "id": "4107f392",
   "metadata": {},
   "outputs": [
    {
     "name": "stdout",
     "output_type": "stream",
     "text": [
      "<class 'int'>\n"
     ]
    },
    {
     "data": {
      "text/plain": [
       "28"
      ]
     },
     "execution_count": 34,
     "metadata": {},
     "output_type": "execute_result"
    }
   ],
   "source": [
    "a=5\n",
    "print(type(a))\n",
    "sys.getsizeof(int(a))"
   ]
  },
  {
   "cell_type": "code",
   "execution_count": 24,
   "id": "2488e175",
   "metadata": {},
   "outputs": [
    {
     "data": {
      "text/plain": [
       "24"
      ]
     },
     "execution_count": 24,
     "metadata": {},
     "output_type": "execute_result"
    }
   ],
   "source": [
    "sys.getsizeof(int())"
   ]
  },
  {
   "cell_type": "code",
   "execution_count": 25,
   "id": "85ad2319",
   "metadata": {},
   "outputs": [
    {
     "data": {
      "text/plain": [
       "24"
      ]
     },
     "execution_count": 25,
     "metadata": {},
     "output_type": "execute_result"
    }
   ],
   "source": [
    "sys.getsizeof(float())"
   ]
  },
  {
   "cell_type": "markdown",
   "id": "6130f347",
   "metadata": {},
   "source": [
    "# Float"
   ]
  },
  {
   "cell_type": "code",
   "execution_count": 35,
   "id": "a7d61d7e",
   "metadata": {},
   "outputs": [
    {
     "name": "stdout",
     "output_type": "stream",
     "text": [
      "<class 'float'>\n"
     ]
    },
    {
     "data": {
      "text/plain": [
       "24"
      ]
     },
     "execution_count": 35,
     "metadata": {},
     "output_type": "execute_result"
    }
   ],
   "source": [
    "b=6.5\n",
    "print(type(b))\n",
    "sys.getsizeof(b)"
   ]
  },
  {
   "cell_type": "markdown",
   "id": "dd54b33e",
   "metadata": {},
   "source": [
    "# Complex"
   ]
  },
  {
   "cell_type": "code",
   "execution_count": 30,
   "id": "0b3781f8",
   "metadata": {},
   "outputs": [
    {
     "data": {
      "text/plain": [
       "32"
      ]
     },
     "execution_count": 30,
     "metadata": {},
     "output_type": "execute_result"
    }
   ],
   "source": [
    "sys.getsizeof(complex())"
   ]
  },
  {
   "cell_type": "code",
   "execution_count": 13,
   "id": "270d5a49",
   "metadata": {},
   "outputs": [
    {
     "name": "stdout",
     "output_type": "stream",
     "text": [
      "<class 'complex'>\n"
     ]
    },
    {
     "data": {
      "text/plain": [
       "32"
      ]
     },
     "execution_count": 13,
     "metadata": {},
     "output_type": "execute_result"
    }
   ],
   "source": [
    "import sys\n",
    "c=6+4j\n",
    "print(type(c))\n",
    "sys.getsizeof(c)\n"
   ]
  },
  {
   "cell_type": "markdown",
   "id": "9719c425",
   "metadata": {},
   "source": [
    "# Boolean"
   ]
  },
  {
   "cell_type": "code",
   "execution_count": 31,
   "id": "01f720a3",
   "metadata": {},
   "outputs": [
    {
     "data": {
      "text/plain": [
       "28"
      ]
     },
     "execution_count": 31,
     "metadata": {},
     "output_type": "execute_result"
    }
   ],
   "source": [
    "sys.getsizeof(True)"
   ]
  },
  {
   "cell_type": "code",
   "execution_count": 14,
   "id": "99f9befa",
   "metadata": {},
   "outputs": [
    {
     "name": "stdout",
     "output_type": "stream",
     "text": [
      "<class 'bool'>\n"
     ]
    },
    {
     "data": {
      "text/plain": [
       "24"
      ]
     },
     "execution_count": 14,
     "metadata": {},
     "output_type": "execute_result"
    }
   ],
   "source": [
    "d=True\n",
    "print(type(d))\n",
    "sys.getsizeof(bool())"
   ]
  },
  {
   "cell_type": "markdown",
   "id": "30779868",
   "metadata": {},
   "source": [
    "# String"
   ]
  },
  {
   "cell_type": "code",
   "execution_count": 45,
   "id": "637afad0",
   "metadata": {},
   "outputs": [
    {
     "name": "stdout",
     "output_type": "stream",
     "text": [
      "<class 'str'>\n"
     ]
    },
    {
     "data": {
      "text/plain": [
       "55"
      ]
     },
     "execution_count": 45,
     "metadata": {},
     "output_type": "execute_result"
    }
   ],
   "source": [
    "s=\"Hello \"\n",
    "print(type(s))\n",
    "sys.getsizeof(s)"
   ]
  },
  {
   "cell_type": "markdown",
   "id": "8f18cca9",
   "metadata": {},
   "source": [
    "length of string"
   ]
  },
  {
   "cell_type": "code",
   "execution_count": 46,
   "id": "4e3d470a",
   "metadata": {},
   "outputs": [
    {
     "data": {
      "text/plain": [
       "6"
      ]
     },
     "execution_count": 46,
     "metadata": {},
     "output_type": "execute_result"
    }
   ],
   "source": [
    "len(s) "
   ]
  },
  {
   "cell_type": "code",
   "execution_count": 47,
   "id": "385a1563",
   "metadata": {},
   "outputs": [
    {
     "data": {
      "text/plain": [
       "'Hello Hello Hello Hello Hello Hello Hello Hello Hello Hello '"
      ]
     },
     "execution_count": 47,
     "metadata": {},
     "output_type": "execute_result"
    }
   ],
   "source": [
    "s=s*10\n",
    "s"
   ]
  },
  {
   "cell_type": "markdown",
   "id": "139c8fd0",
   "metadata": {},
   "source": [
    "-  String indexing starts from 0(Forword indexing, left to right) and Backword indexing starts from -1(right to left)\n",
    "-  Multiline string is written in triple quotes\n",
    "-  string is immutable which means once we define the variable string and assigned the value we cannot change the value"
   ]
  },
  {
   "cell_type": "markdown",
   "id": "ffea003e",
   "metadata": {},
   "source": [
    "Accessing the elements in the string"
   ]
  },
  {
   "cell_type": "code",
   "execution_count": 3,
   "id": "06ee7515",
   "metadata": {},
   "outputs": [],
   "source": [
    "string = \"Hey Dear\""
   ]
  },
  {
   "cell_type": "code",
   "execution_count": 4,
   "id": "f39b3d11",
   "metadata": {},
   "outputs": [
    {
     "data": {
      "text/plain": [
       "'H'"
      ]
     },
     "execution_count": 4,
     "metadata": {},
     "output_type": "execute_result"
    }
   ],
   "source": [
    "string[0] #First element in string"
   ]
  },
  {
   "cell_type": "code",
   "execution_count": 5,
   "id": "889ad046",
   "metadata": {},
   "outputs": [
    {
     "data": {
      "text/plain": [
       "'r'"
      ]
     },
     "execution_count": 5,
     "metadata": {},
     "output_type": "execute_result"
    }
   ],
   "source": [
    "string[len(string)-1] #last Element in the string"
   ]
  },
  {
   "cell_type": "code",
   "execution_count": 6,
   "id": "b0fc7157",
   "metadata": {},
   "outputs": [
    {
     "data": {
      "text/plain": [
       "'r'"
      ]
     },
     "execution_count": 6,
     "metadata": {},
     "output_type": "execute_result"
    }
   ],
   "source": [
    "string[-1]"
   ]
  },
  {
   "cell_type": "markdown",
   "id": "1d875368",
   "metadata": {},
   "source": [
    "String Slicing : string[start:End:step]"
   ]
  },
  {
   "cell_type": "code",
   "execution_count": 7,
   "id": "5c9f1941",
   "metadata": {},
   "outputs": [
    {
     "data": {
      "text/plain": [
       "'Hey Dea'"
      ]
     },
     "execution_count": 7,
     "metadata": {},
     "output_type": "execute_result"
    }
   ],
   "source": [
    "string[:-1] "
   ]
  },
  {
   "cell_type": "code",
   "execution_count": 10,
   "id": "ebb3573d",
   "metadata": {},
   "outputs": [
    {
     "data": {
      "text/plain": [
       "'HyDa'"
      ]
     },
     "execution_count": 10,
     "metadata": {},
     "output_type": "execute_result"
    }
   ],
   "source": [
    "string[::2]"
   ]
  },
  {
   "cell_type": "code",
   "execution_count": 9,
   "id": "214b9090",
   "metadata": {},
   "outputs": [
    {
     "data": {
      "text/plain": [
       "'ey D'"
      ]
     },
     "execution_count": 9,
     "metadata": {},
     "output_type": "execute_result"
    }
   ],
   "source": [
    "string[1:5]"
   ]
  },
  {
   "cell_type": "code",
   "execution_count": 11,
   "id": "3df3513f",
   "metadata": {},
   "outputs": [
    {
     "data": {
      "text/plain": [
       "'Hey Dear'"
      ]
     },
     "execution_count": 11,
     "metadata": {},
     "output_type": "execute_result"
    }
   ],
   "source": [
    "string[::]"
   ]
  },
  {
   "cell_type": "code",
   "execution_count": 15,
   "id": "d0ff6c3a",
   "metadata": {},
   "outputs": [
    {
     "ename": "TypeError",
     "evalue": "'str' object does not support item assignment",
     "output_type": "error",
     "traceback": [
      "\u001b[1;31m---------------------------------------------------------------------------\u001b[0m",
      "\u001b[1;31mTypeError\u001b[0m                                 Traceback (most recent call last)",
      "\u001b[1;32m~\\AppData\\Local\\Temp/ipykernel_5408/3491340219.py\u001b[0m in \u001b[0;36m<module>\u001b[1;34m\u001b[0m\n\u001b[1;32m----> 1\u001b[1;33m \u001b[0mstring\u001b[0m\u001b[1;33m[\u001b[0m\u001b[1;36m0\u001b[0m\u001b[1;33m:\u001b[0m\u001b[1;36m5\u001b[0m\u001b[1;33m]\u001b[0m\u001b[1;33m=\u001b[0m\u001b[1;34m\"Happy\"\u001b[0m\u001b[1;33m\u001b[0m\u001b[1;33m\u001b[0m\u001b[0m\n\u001b[0m",
      "\u001b[1;31mTypeError\u001b[0m: 'str' object does not support item assignment"
     ]
    }
   ],
   "source": [
    "string[0:5]=\"Happy\""
   ]
  },
  {
   "cell_type": "markdown",
   "id": "cccc97b7",
   "metadata": {},
   "source": [
    "Update and delete string"
   ]
  },
  {
   "cell_type": "code",
   "execution_count": 16,
   "id": "5a65dfba",
   "metadata": {},
   "outputs": [
    {
     "ename": "NameError",
     "evalue": "name 'string' is not defined",
     "output_type": "error",
     "traceback": [
      "\u001b[1;31m---------------------------------------------------------------------------\u001b[0m",
      "\u001b[1;31mNameError\u001b[0m                                 Traceback (most recent call last)",
      "\u001b[1;32m~\\AppData\\Local\\Temp/ipykernel_5408/1382792778.py\u001b[0m in \u001b[0;36m<module>\u001b[1;34m\u001b[0m\n\u001b[0;32m      1\u001b[0m \u001b[1;32mdel\u001b[0m\u001b[1;33m(\u001b[0m\u001b[0mstring\u001b[0m\u001b[1;33m)\u001b[0m\u001b[1;33m\u001b[0m\u001b[1;33m\u001b[0m\u001b[0m\n\u001b[1;32m----> 2\u001b[1;33m \u001b[0mstring\u001b[0m\u001b[1;33m\u001b[0m\u001b[1;33m\u001b[0m\u001b[0m\n\u001b[0m",
      "\u001b[1;31mNameError\u001b[0m: name 'string' is not defined"
     ]
    }
   ],
   "source": [
    "del(string)\n",
    "string\n"
   ]
  },
  {
   "cell_type": "markdown",
   "id": "b7f35bca",
   "metadata": {},
   "source": [
    "String Concatenation"
   ]
  },
  {
   "cell_type": "code",
   "execution_count": 18,
   "id": "01ffb9a1",
   "metadata": {},
   "outputs": [
    {
     "data": {
      "text/plain": [
       "'Hello How are you?'"
      ]
     },
     "execution_count": 18,
     "metadata": {},
     "output_type": "execute_result"
    }
   ],
   "source": [
    "str1=\"Hello \"\n",
    "str2=\"How are you?\"\n",
    "str3=str1+str2\n",
    "str3"
   ]
  },
  {
   "cell_type": "code",
   "execution_count": 19,
   "id": "ae05e9e1",
   "metadata": {},
   "outputs": [
    {
     "data": {
      "text/plain": [
       "'Hello  How are you?'"
      ]
     },
     "execution_count": 19,
     "metadata": {},
     "output_type": "execute_result"
    }
   ],
   "source": [
    "str3= str1+\" \"+str2\n",
    "str3"
   ]
  },
  {
   "cell_type": "markdown",
   "id": "f610f73e",
   "metadata": {},
   "source": [
    "String Iteration"
   ]
  },
  {
   "cell_type": "code",
   "execution_count": 21,
   "id": "96de0d98",
   "metadata": {},
   "outputs": [
    {
     "name": "stdout",
     "output_type": "stream",
     "text": [
      "H\n",
      "e\n",
      "l\n",
      "l\n",
      "o\n",
      " \n"
     ]
    }
   ],
   "source": [
    "for i in str1:\n",
    "    print(i)"
   ]
  },
  {
   "cell_type": "code",
   "execution_count": 22,
   "id": "6e6af47f",
   "metadata": {},
   "outputs": [
    {
     "name": "stdout",
     "output_type": "stream",
     "text": [
      "(0, 'H')\n",
      "(1, 'e')\n",
      "(2, 'l')\n",
      "(3, 'l')\n",
      "(4, 'o')\n",
      "(5, ' ')\n"
     ]
    }
   ],
   "source": [
    "for i in enumerate(str1):\n",
    "    print(i)"
   ]
  },
  {
   "cell_type": "markdown",
   "id": "0f83d2d5",
   "metadata": {},
   "source": [
    "Enumerate : returns element with index"
   ]
  },
  {
   "cell_type": "markdown",
   "id": "53085a6c",
   "metadata": {},
   "source": [
    "String Membership : check weather the substring is present in the string or not"
   ]
  },
  {
   "cell_type": "code",
   "execution_count": 24,
   "id": "83e29db6",
   "metadata": {},
   "outputs": [
    {
     "name": "stdout",
     "output_type": "stream",
     "text": [
      "True\n"
     ]
    }
   ],
   "source": [
    "strnew=\"Good Morning\"\n",
    "print(\"Good\" in strnew)"
   ]
  },
  {
   "cell_type": "code",
   "execution_count": 25,
   "id": "859cca28",
   "metadata": {},
   "outputs": [
    {
     "ename": "NameError",
     "evalue": "name 'string' is not defined",
     "output_type": "error",
     "traceback": [
      "\u001b[1;31m---------------------------------------------------------------------------\u001b[0m",
      "\u001b[1;31mNameError\u001b[0m                                 Traceback (most recent call last)",
      "\u001b[1;32m~\\AppData\\Local\\Temp/ipykernel_5408/1526325161.py\u001b[0m in \u001b[0;36m<module>\u001b[1;34m\u001b[0m\n\u001b[1;32m----> 1\u001b[1;33m \u001b[0mprint\u001b[0m\u001b[1;33m(\u001b[0m\u001b[1;34m\"Hello\"\u001b[0m \u001b[1;32min\u001b[0m \u001b[0mstring\u001b[0m\u001b[1;33m)\u001b[0m\u001b[1;33m\u001b[0m\u001b[1;33m\u001b[0m\u001b[0m\n\u001b[0m",
      "\u001b[1;31mNameError\u001b[0m: name 'string' is not defined"
     ]
    }
   ],
   "source": [
    "print(\"Hello\" in string)"
   ]
  },
  {
   "cell_type": "markdown",
   "id": "507c74bb",
   "metadata": {},
   "source": [
    "String Membership"
   ]
  },
  {
   "cell_type": "markdown",
   "id": "055d3103",
   "metadata": {},
   "source": [
    "-  Partition() used to split the string from thr specific character\n",
    "- First element contains the part before the argument string\n",
    "- second element contains the argument\n",
    "- third element contains the part after the argument string"
   ]
  },
  {
   "cell_type": "code",
   "execution_count": 26,
   "id": "63147f6a",
   "metadata": {},
   "outputs": [
    {
     "data": {
      "text/plain": [
       "('Python ', 'and', ' java are the object oriented programming languages')"
      ]
     },
     "execution_count": 26,
     "metadata": {},
     "output_type": "execute_result"
    }
   ],
   "source": [
    "string =\"Python and java are the object oriented programming languages\"\n",
    "A=string.partition(\"and\")\n",
    "A\n"
   ]
  },
  {
   "cell_type": "markdown",
   "id": "f1d53fe4",
   "metadata": {},
   "source": [
    "strip() :- remove the white space "
   ]
  },
  {
   "cell_type": "code",
   "execution_count": 28,
   "id": "b00cf90a",
   "metadata": {},
   "outputs": [
    {
     "data": {
      "text/plain": [
       "'      hello      '"
      ]
     },
     "execution_count": 28,
     "metadata": {},
     "output_type": "execute_result"
    }
   ],
   "source": [
    "str1 = \"      hello      \"\n",
    "str1"
   ]
  },
  {
   "cell_type": "code",
   "execution_count": 29,
   "id": "a74c6e0b",
   "metadata": {},
   "outputs": [
    {
     "data": {
      "text/plain": [
       "'hello'"
      ]
     },
     "execution_count": 29,
     "metadata": {},
     "output_type": "execute_result"
    }
   ],
   "source": [
    "str1.strip()"
   ]
  },
  {
   "cell_type": "code",
   "execution_count": 30,
   "id": "8a776bd8",
   "metadata": {},
   "outputs": [
    {
     "data": {
      "text/plain": [
       "'hello      '"
      ]
     },
     "execution_count": 30,
     "metadata": {},
     "output_type": "execute_result"
    }
   ],
   "source": [
    "str1.lstrip()"
   ]
  },
  {
   "cell_type": "code",
   "execution_count": 31,
   "id": "3bad0cc9",
   "metadata": {},
   "outputs": [
    {
     "data": {
      "text/plain": [
       "'      hello'"
      ]
     },
     "execution_count": 31,
     "metadata": {},
     "output_type": "execute_result"
    }
   ],
   "source": [
    "str1.rstrip()"
   ]
  },
  {
   "cell_type": "code",
   "execution_count": 38,
   "id": "a6d716e6",
   "metadata": {},
   "outputs": [
    {
     "data": {
      "text/plain": [
       "'hey********************hello'"
      ]
     },
     "execution_count": 38,
     "metadata": {},
     "output_type": "execute_result"
    }
   ],
   "source": [
    "str2='*****************************************hey********************hello**************************'\n",
    "str2.strip('*')"
   ]
  },
  {
   "cell_type": "code",
   "execution_count": 39,
   "id": "36438b06",
   "metadata": {},
   "outputs": [
    {
     "data": {
      "text/plain": [
       "'hey********************hello**************************'"
      ]
     },
     "execution_count": 39,
     "metadata": {},
     "output_type": "execute_result"
    }
   ],
   "source": [
    "str2.lstrip('*')"
   ]
  },
  {
   "cell_type": "code",
   "execution_count": 40,
   "id": "ceeae311",
   "metadata": {},
   "outputs": [
    {
     "data": {
      "text/plain": [
       "'*****************************************hey********************hello'"
      ]
     },
     "execution_count": 40,
     "metadata": {},
     "output_type": "execute_result"
    }
   ],
   "source": [
    "str2.rstrip('*')"
   ]
  },
  {
   "cell_type": "markdown",
   "id": "18a89d67",
   "metadata": {},
   "source": [
    "- lower() :- return the string in lower case\n",
    "- upper() :- return the string in upper case\n",
    "- replace() :- replace the substring\n",
    "- count()   :- return the number of times element appear in string\n",
    "- startswith() :- returns the boolean value if the string starts with the element or not\n",
    "- endswith() :- returns the boolean value if the string endss with the element or not \n",
    "- .format() :- combining string \n",
    "- .center() :- center align the string \n",
    "- .rjust() :- right align the string\n",
    "- .ljust() :- left align the string\n",
    "- .find() :- find the specific word in the string\n",
    "- .index :- find the location of the word in string\n",
    "- .isalpha() :- returns true is all the elements in the string are alphabets\n",
    "- .isalnum() :- returns true is all the elements in the string are numbers\n",
    "- .isdecimal() :- returns true is all the elements in the string are decimal\n",
    "- .isnumeric() :- returns true is all the elements in the string are numeric\n",
    "- .rfind() and .rindex() : last occurrence of the word in string\n"
   ]
  },
  {
   "cell_type": "code",
   "execution_count": 42,
   "id": "bf148430",
   "metadata": {},
   "outputs": [
    {
     "data": {
      "text/plain": [
       "' good morning'"
      ]
     },
     "execution_count": 42,
     "metadata": {},
     "output_type": "execute_result"
    }
   ],
   "source": [
    "mystr=\" Good Morning\"\n",
    "mystr.lower()"
   ]
  },
  {
   "cell_type": "code",
   "execution_count": 43,
   "id": "052e8890",
   "metadata": {},
   "outputs": [
    {
     "data": {
      "text/plain": [
       "' GOOD MORNING'"
      ]
     },
     "execution_count": 43,
     "metadata": {},
     "output_type": "execute_result"
    }
   ],
   "source": [
    "mystr.upper()"
   ]
  },
  {
   "cell_type": "code",
   "execution_count": 16,
   "id": "4189056b",
   "metadata": {},
   "outputs": [
    {
     "data": {
      "text/plain": [
       "2"
      ]
     },
     "execution_count": 16,
     "metadata": {},
     "output_type": "execute_result"
    }
   ],
   "source": [
    "mystr=\" hey dear hello hey how when how when how\"\n",
    "mystr.count(\"hey\")"
   ]
  },
  {
   "cell_type": "code",
   "execution_count": 3,
   "id": "9dfcdb53",
   "metadata": {},
   "outputs": [
    {
     "data": {
      "text/plain": [
       "False"
      ]
     },
     "execution_count": 3,
     "metadata": {},
     "output_type": "execute_result"
    }
   ],
   "source": [
    "mystr.startswith(\"hey\")"
   ]
  },
  {
   "cell_type": "code",
   "execution_count": 5,
   "id": "c9c00b31",
   "metadata": {},
   "outputs": [
    {
     "data": {
      "text/plain": [
       "True"
      ]
     },
     "execution_count": 5,
     "metadata": {},
     "output_type": "execute_result"
    }
   ],
   "source": [
    "mystr.startswith(\" \")"
   ]
  },
  {
   "cell_type": "code",
   "execution_count": 6,
   "id": "329fd6ef",
   "metadata": {},
   "outputs": [
    {
     "data": {
      "text/plain": [
       "False"
      ]
     },
     "execution_count": 6,
     "metadata": {},
     "output_type": "execute_result"
    }
   ],
   "source": [
    "mystr.endswith(\"hey\")"
   ]
  },
  {
   "cell_type": "code",
   "execution_count": 7,
   "id": "0532eac9",
   "metadata": {},
   "outputs": [
    {
     "data": {
      "text/plain": [
       "True"
      ]
     },
     "execution_count": 7,
     "metadata": {},
     "output_type": "execute_result"
    }
   ],
   "source": [
    "mystr.endswith(\"how\")"
   ]
  },
  {
   "cell_type": "code",
   "execution_count": 8,
   "id": "760e6be2",
   "metadata": {},
   "outputs": [
    {
     "data": {
      "text/plain": [
       "['hey', 'dear', 'hello', 'hey', 'how', 'when', 'how', 'when', 'how']"
      ]
     },
     "execution_count": 8,
     "metadata": {},
     "output_type": "execute_result"
    }
   ],
   "source": [
    "mystr.split()"
   ]
  },
  {
   "cell_type": "code",
   "execution_count": 10,
   "id": "d3fea2af",
   "metadata": {},
   "outputs": [
    {
     "name": "stdout",
     "output_type": "stream",
     "text": [
      "cost of pen,book and textbook are 20, 55 and 62\n"
     ]
    }
   ],
   "source": [
    "a=20\n",
    "b=55\n",
    "c=62\n",
    "res= \"cost of pen,book and textbook are {}, {} and {}\"\n",
    "print(res.format(a,b,c))"
   ]
  },
  {
   "cell_type": "code",
   "execution_count": 11,
   "id": "611e9613",
   "metadata": {},
   "outputs": [
    {
     "data": {
      "text/plain": [
       "'                                          Welcome everyone                                          '"
      ]
     },
     "execution_count": 11,
     "metadata": {},
     "output_type": "execute_result"
    }
   ],
   "source": [
    "str1 = \"Welcome everyone\"\n",
    "str2 = str1.center(100)\n",
    "str2"
   ]
  },
  {
   "cell_type": "code",
   "execution_count": 12,
   "id": "d28fda41",
   "metadata": {},
   "outputs": [
    {
     "data": {
      "text/plain": [
       "'                 Welcome everyone                 '"
      ]
     },
     "execution_count": 12,
     "metadata": {},
     "output_type": "execute_result"
    }
   ],
   "source": [
    "str2 = str1.center(50)\n",
    "str2"
   ]
  },
  {
   "cell_type": "code",
   "execution_count": 13,
   "id": "f053e60b",
   "metadata": {},
   "outputs": [
    {
     "data": {
      "text/plain": [
       "'******************************************Welcome everyone******************************************'"
      ]
     },
     "execution_count": 13,
     "metadata": {},
     "output_type": "execute_result"
    }
   ],
   "source": [
    "str2 = str1.center(100,'*')\n",
    "str2"
   ]
  },
  {
   "cell_type": "code",
   "execution_count": 14,
   "id": "1fd57c82",
   "metadata": {},
   "outputs": [
    {
     "data": {
      "text/plain": [
       "'                                                                                    Welcome everyone'"
      ]
     },
     "execution_count": 14,
     "metadata": {},
     "output_type": "execute_result"
    }
   ],
   "source": [
    "str2 = str1.rjust(100)\n",
    "str2"
   ]
  },
  {
   "cell_type": "code",
   "execution_count": 15,
   "id": "769d800d",
   "metadata": {},
   "outputs": [
    {
     "data": {
      "text/plain": [
       "'Welcome everyone                                                                                    '"
      ]
     },
     "execution_count": 15,
     "metadata": {},
     "output_type": "execute_result"
    }
   ],
   "source": [
    "str2 = str1.ljust(100)\n",
    "str2"
   ]
  },
  {
   "cell_type": "code",
   "execution_count": 17,
   "id": "956eeb8b",
   "metadata": {},
   "outputs": [
    {
     "data": {
      "text/plain": [
       "1"
      ]
     },
     "execution_count": 17,
     "metadata": {},
     "output_type": "execute_result"
    }
   ],
   "source": [
    "mystr.find('hey')"
   ]
  },
  {
   "cell_type": "code",
   "execution_count": 19,
   "id": "d41a09ff",
   "metadata": {},
   "outputs": [
    {
     "data": {
      "text/plain": [
       "10"
      ]
     },
     "execution_count": 19,
     "metadata": {},
     "output_type": "execute_result"
    }
   ],
   "source": [
    "mystr.index('hello')"
   ]
  },
  {
   "cell_type": "code",
   "execution_count": 20,
   "id": "8cdda58b",
   "metadata": {},
   "outputs": [
    {
     "name": "stdout",
     "output_type": "stream",
     "text": [
      "False\n",
      "True\n",
      "True\n",
      "True\n"
     ]
    }
   ],
   "source": [
    "mystr0 = '12144656'\n",
    "print(mystr0.isalpha())\n",
    "print(mystr0.isalnum())\n",
    "print(mystr0.isdecimal())\n",
    "print(mystr0.isnumeric())"
   ]
  },
  {
   "cell_type": "code",
   "execution_count": 21,
   "id": "83e9c467",
   "metadata": {},
   "outputs": [
    {
     "name": "stdout",
     "output_type": "stream",
     "text": [
      "True\n",
      "True\n",
      "False\n",
      "False\n"
     ]
    }
   ],
   "source": [
    "mystr0 = 'bfkehitoowio'\n",
    "print(mystr0.isalpha())\n",
    "print(mystr0.isalnum())\n",
    "print(mystr0.isdecimal())\n",
    "print(mystr0.isnumeric())"
   ]
  },
  {
   "cell_type": "code",
   "execution_count": 22,
   "id": "c4a3febe",
   "metadata": {},
   "outputs": [
    {
     "name": "stdout",
     "output_type": "stream",
     "text": [
      "False\n",
      "True\n",
      "False\n",
      "False\n"
     ]
    }
   ],
   "source": [
    "mystr0 = '12144656vyugiu'\n",
    "print(mystr0.isalpha())\n",
    "print(mystr0.isalnum())\n",
    "print(mystr0.isdecimal())\n",
    "print(mystr0.isnumeric())"
   ]
  },
  {
   "cell_type": "code",
   "execution_count": 23,
   "id": "9750ec24",
   "metadata": {},
   "outputs": [
    {
     "data": {
      "text/plain": [
       "False"
      ]
     },
     "execution_count": 23,
     "metadata": {},
     "output_type": "execute_result"
    }
   ],
   "source": [
    "mystr0.isupper()"
   ]
  },
  {
   "cell_type": "code",
   "execution_count": 24,
   "id": "093bcd2b",
   "metadata": {},
   "outputs": [
    {
     "data": {
      "text/plain": [
       "True"
      ]
     },
     "execution_count": 24,
     "metadata": {},
     "output_type": "execute_result"
    }
   ],
   "source": [
    "mystr0.islower()"
   ]
  },
  {
   "cell_type": "code",
   "execution_count": 25,
   "id": "68a63c4f",
   "metadata": {},
   "outputs": [
    {
     "data": {
      "text/plain": [
       "16"
      ]
     },
     "execution_count": 25,
     "metadata": {},
     "output_type": "execute_result"
    }
   ],
   "source": [
    "mystr.rfind('hey')"
   ]
  },
  {
   "cell_type": "code",
   "execution_count": 26,
   "id": "d5c8db46",
   "metadata": {},
   "outputs": [
    {
     "ename": "AttributeError",
     "evalue": "'str' object has no attribute 'lfind'",
     "output_type": "error",
     "traceback": [
      "\u001b[1;31m---------------------------------------------------------------------------\u001b[0m",
      "\u001b[1;31mAttributeError\u001b[0m                            Traceback (most recent call last)",
      "\u001b[1;32m~\\AppData\\Local\\Temp/ipykernel_28580/2905065657.py\u001b[0m in \u001b[0;36m<module>\u001b[1;34m\u001b[0m\n\u001b[1;32m----> 1\u001b[1;33m \u001b[0mmystr\u001b[0m\u001b[1;33m.\u001b[0m\u001b[0mlfind\u001b[0m\u001b[1;33m(\u001b[0m\u001b[1;34m'hey'\u001b[0m\u001b[1;33m)\u001b[0m\u001b[1;33m\u001b[0m\u001b[1;33m\u001b[0m\u001b[0m\n\u001b[0m",
      "\u001b[1;31mAttributeError\u001b[0m: 'str' object has no attribute 'lfind'"
     ]
    }
   ],
   "source": [
    "mystr.lfind('hey')"
   ]
  },
  {
   "cell_type": "markdown",
   "id": "53437c07",
   "metadata": {},
   "source": [
    "# Escape Character\n",
    "Note:- Using double quotes are not allowed in string but can use using escaape character"
   ]
  },
  {
   "cell_type": "code",
   "execution_count": 27,
   "id": "5f11750a",
   "metadata": {},
   "outputs": [
    {
     "ename": "SyntaxError",
     "evalue": "invalid syntax (Temp/ipykernel_28580/3102909722.py, line 1)",
     "output_type": "error",
     "traceback": [
      "\u001b[1;36m  File \u001b[1;32m\"C:\\Users\\dipali\\AppData\\Local\\Temp/ipykernel_28580/3102909722.py\"\u001b[1;36m, line \u001b[1;32m1\u001b[0m\n\u001b[1;33m    s=\"Good Morning my name is \"Dipali\"\"\u001b[0m\n\u001b[1;37m                                ^\u001b[0m\n\u001b[1;31mSyntaxError\u001b[0m\u001b[1;31m:\u001b[0m invalid syntax\n"
     ]
    }
   ],
   "source": [
    "s=\"Good Morning my name is \"Dipali\"\""
   ]
  },
  {
   "cell_type": "code",
   "execution_count": 29,
   "id": "3c6e1668",
   "metadata": {},
   "outputs": [
    {
     "data": {
      "text/plain": [
       "'Good Morning my name is \"Dipali\"'"
      ]
     },
     "execution_count": 29,
     "metadata": {},
     "output_type": "execute_result"
    }
   ],
   "source": [
    "s=\"Good Morning my name is \\\"Dipali\\\"\"\n",
    "s"
   ]
  },
  {
   "cell_type": "markdown",
   "id": "b825c5c8",
   "metadata": {},
   "source": [
    "# List\n",
    "- list is the sequence of items\n",
    "- list is written inside square brackets sperated by comma\n",
    "- order preserved\n",
    "- Heterogeneous elements are allowed in list\n",
    "- list is mutable once we assign the list element we can change the elements\n",
    "- slower than the tuples\n",
    "- .append() :-  to to add the element at the end of list \n",
    "- like string list indexing starts from 0 and reverse indexinf starts from -1\n",
    "- .insert(index,element) :- add the element at specific index\n",
    "- .remove(element) :- remove the specific element\n",
    "- .pop(index) :- remove the element from the specific location\n",
    "- del list[index] :- remove the element fronm the specific index\n",
    "- clear() :- delete all the elements from the list\n",
    "- id(list) :- provid etje address of list\n",
    "- .copy() :- areate a copy of a list\n",
    "- list membership :- element in list returns boolean value\n",
    "- .reverse() :- reverse the list or [::-1]\n",
    "- .sort() :- sort list in ascending order\n",
    "- .sort(reverse=True) :- sort list in descending order"
   ]
  },
  {
   "cell_type": "code",
   "execution_count": 30,
   "id": "6683040f",
   "metadata": {},
   "outputs": [
    {
     "data": {
      "text/plain": [
       "[5]"
      ]
     },
     "execution_count": 30,
     "metadata": {},
     "output_type": "execute_result"
    }
   ],
   "source": [
    "list1 =[]\n",
    "#Empty list\n",
    "list1.append(5)\n",
    "list1"
   ]
  },
  {
   "cell_type": "code",
   "execution_count": 31,
   "id": "11390b10",
   "metadata": {},
   "outputs": [
    {
     "name": "stdout",
     "output_type": "stream",
     "text": [
      "<class 'list'>\n"
     ]
    }
   ],
   "source": [
    "print(type(list1))"
   ]
  },
  {
   "cell_type": "code",
   "execution_count": 32,
   "id": "b176818c",
   "metadata": {},
   "outputs": [
    {
     "data": {
      "text/plain": [
       "[10, 20, 30]"
      ]
     },
     "execution_count": 32,
     "metadata": {},
     "output_type": "execute_result"
    }
   ],
   "source": [
    "l=[10,20,30]\n",
    "l"
   ]
  },
  {
   "cell_type": "code",
   "execution_count": 34,
   "id": "8317d3f0",
   "metadata": {},
   "outputs": [
    {
     "data": {
      "text/plain": [
       "[10, 10.5, 'hey', True]"
      ]
     },
     "execution_count": 34,
     "metadata": {},
     "output_type": "execute_result"
    }
   ],
   "source": [
    "l1 =[10,10.5,'hey',True]\n",
    "l1"
   ]
  },
  {
   "cell_type": "code",
   "execution_count": 35,
   "id": "aed30f22",
   "metadata": {},
   "outputs": [
    {
     "data": {
      "text/plain": [
       "['hey', 'hello', ['hdgh', 25], [52, 56]]"
      ]
     },
     "execution_count": 35,
     "metadata": {},
     "output_type": "execute_result"
    }
   ],
   "source": [
    "l2=[\"hey\",'hello',['hdgh',25],[52,56]] #nested list\n",
    "l2"
   ]
  },
  {
   "cell_type": "code",
   "execution_count": 36,
   "id": "27dede05",
   "metadata": {},
   "outputs": [
    {
     "data": {
      "text/plain": [
       "4"
      ]
     },
     "execution_count": 36,
     "metadata": {},
     "output_type": "execute_result"
    }
   ],
   "source": [
    "len(l2) #length of list"
   ]
  },
  {
   "cell_type": "code",
   "execution_count": 37,
   "id": "eab66881",
   "metadata": {},
   "outputs": [
    {
     "data": {
      "text/plain": [
       "10"
      ]
     },
     "execution_count": 37,
     "metadata": {},
     "output_type": "execute_result"
    }
   ],
   "source": [
    "l1[0]"
   ]
  },
  {
   "cell_type": "code",
   "execution_count": 38,
   "id": "dcb43986",
   "metadata": {},
   "outputs": [
    {
     "data": {
      "text/plain": [
       "True"
      ]
     },
     "execution_count": 38,
     "metadata": {},
     "output_type": "execute_result"
    }
   ],
   "source": [
    "l1[-1]"
   ]
  },
  {
   "cell_type": "markdown",
   "id": "718fa2ce",
   "metadata": {},
   "source": [
    "list  slicing"
   ]
  },
  {
   "cell_type": "code",
   "execution_count": 40,
   "id": "01d6235d",
   "metadata": {},
   "outputs": [
    {
     "data": {
      "text/plain": [
       "[10, 10.5, 'hey', True]"
      ]
     },
     "execution_count": 40,
     "metadata": {},
     "output_type": "execute_result"
    }
   ],
   "source": [
    "l1[:]"
   ]
  },
  {
   "cell_type": "code",
   "execution_count": 41,
   "id": "2f5693f4",
   "metadata": {},
   "outputs": [
    {
     "data": {
      "text/plain": [
       "[10, 10.5]"
      ]
     },
     "execution_count": 41,
     "metadata": {},
     "output_type": "execute_result"
    }
   ],
   "source": [
    "l1[:-2]"
   ]
  },
  {
   "cell_type": "code",
   "execution_count": 42,
   "id": "ff2042d9",
   "metadata": {},
   "outputs": [
    {
     "data": {
      "text/plain": [
       "['hey', True]"
      ]
     },
     "execution_count": 42,
     "metadata": {},
     "output_type": "execute_result"
    }
   ],
   "source": [
    "l1[-2:]"
   ]
  },
  {
   "cell_type": "markdown",
   "id": "3078cb62",
   "metadata": {},
   "source": [
    "Insert and Append"
   ]
  },
  {
   "cell_type": "code",
   "execution_count": null,
   "id": "6c777fe0",
   "metadata": {},
   "outputs": [],
   "source": [
    "a.insert(1,85)\n",
    "\n",
    "a"
   ]
  },
  {
   "cell_type": "code",
   "execution_count": null,
   "id": "edf465a3",
   "metadata": {},
   "outputs": [],
   "source": [
    "\n",
    "\n",
    "a=[12,52,84,49,65]\n",
    "a.append(5)\n",
    "a\n"
   ]
  },
  {
   "cell_type": "markdown",
   "id": "2c7f9358",
   "metadata": {},
   "source": [
    "Reverse & Sort"
   ]
  },
  {
   "cell_type": "code",
   "execution_count": 3,
   "id": "a887a2d4",
   "metadata": {},
   "outputs": [
    {
     "data": {
      "text/plain": [
       "[5, 12, 49, 52, 65, 84]"
      ]
     },
     "execution_count": 3,
     "metadata": {},
     "output_type": "execute_result"
    }
   ],
   "source": [
    "a=sorted(a)\n",
    "a"
   ]
  },
  {
   "cell_type": "code",
   "execution_count": 4,
   "id": "d55a8c75",
   "metadata": {},
   "outputs": [
    {
     "data": {
      "text/plain": [
       "[84, 65, 52, 49, 12, 5]"
      ]
     },
     "execution_count": 4,
     "metadata": {},
     "output_type": "execute_result"
    }
   ],
   "source": [
    "a.sort(reverse=True)\n",
    "a"
   ]
  },
  {
   "cell_type": "code",
   "execution_count": 6,
   "id": "8cfeae67",
   "metadata": {},
   "outputs": [
    {
     "data": {
      "text/plain": [
       "[5, 12, 49, 52, 65, 84]"
      ]
     },
     "execution_count": 6,
     "metadata": {},
     "output_type": "execute_result"
    }
   ],
   "source": [
    "a.sort()\n",
    "a"
   ]
  },
  {
   "cell_type": "markdown",
   "id": "67260c56",
   "metadata": {},
   "source": [
    "Loop through list"
   ]
  },
  {
   "cell_type": "code",
   "execution_count": 340,
   "id": "cb8b71fa",
   "metadata": {},
   "outputs": [],
   "source": [
    "l1=[10,20,3,40,80,8,0,8,12,70,66,98,45,75,25,26,65,78]"
   ]
  },
  {
   "cell_type": "code",
   "execution_count": 341,
   "id": "989ddd1a",
   "metadata": {},
   "outputs": [
    {
     "name": "stdout",
     "output_type": "stream",
     "text": [
      "10\n",
      "20\n",
      "3\n",
      "40\n",
      "80\n",
      "8\n",
      "0\n",
      "8\n",
      "12\n",
      "70\n",
      "66\n",
      "98\n",
      "45\n",
      "75\n",
      "25\n",
      "26\n",
      "65\n",
      "78\n"
     ]
    }
   ],
   "source": [
    "for i in l1:\n",
    "    print(i)"
   ]
  },
  {
   "cell_type": "code",
   "execution_count": 11,
   "id": "09eb7a0a",
   "metadata": {},
   "outputs": [
    {
     "name": "stdout",
     "output_type": "stream",
     "text": [
      "(0, 10)\n",
      "(1, 20)\n",
      "(2, 3)\n",
      "(3, 40)\n",
      "(4, 80)\n",
      "(5, 8)\n",
      "(6, 0)\n",
      "(7, 8)\n",
      "(8, 12)\n",
      "(9, 70)\n",
      "(10, 66)\n",
      "(11, 98)\n",
      "(12, 45)\n",
      "(13, 75)\n",
      "(14, 25)\n",
      "(15, 26)\n",
      "(16, 65)\n",
      "(17, 78)\n"
     ]
    }
   ],
   "source": [
    "for i in enumerate(l1):\n",
    "    print(i)"
   ]
  },
  {
   "cell_type": "markdown",
   "id": "c840a441",
   "metadata": {},
   "source": [
    "All\n",
    "-  returns true if all elements are true\n",
    "-  returns false if all elements are false\n"
   ]
  },
  {
   "cell_type": "markdown",
   "id": "57bc98b6",
   "metadata": {},
   "source": [
    "Any \n",
    "- returns true if any element is true\n",
    "- returns false if any element is false"
   ]
  },
  {
   "cell_type": "code",
   "execution_count": 14,
   "id": "d2fb017f",
   "metadata": {},
   "outputs": [
    {
     "data": {
      "text/plain": [
       "False"
      ]
     },
     "execution_count": 14,
     "metadata": {},
     "output_type": "execute_result"
    }
   ],
   "source": [
    "all(l1)"
   ]
  },
  {
   "cell_type": "code",
   "execution_count": 15,
   "id": "e8026142",
   "metadata": {},
   "outputs": [
    {
     "data": {
      "text/plain": [
       "True"
      ]
     },
     "execution_count": 15,
     "metadata": {},
     "output_type": "execute_result"
    }
   ],
   "source": [
    "any(l1)"
   ]
  },
  {
   "cell_type": "markdown",
   "id": "d0fb4361",
   "metadata": {},
   "source": [
    "List Comprehensation\n",
    "- way to create a new list\n",
    "- List comprehension is a concise way to create lists in Python by applying a condition to each element of an existing iterable, making code more readable and efficient.\n",
    "- [expression for item in list]"
   ]
  },
  {
   "cell_type": "code",
   "execution_count": 19,
   "id": "648ac874",
   "metadata": {},
   "outputs": [
    {
     "data": {
      "text/plain": [
       "[0, 1, 4, 9, 16, 25, 36, 49, 64, 81]"
      ]
     },
     "execution_count": 19,
     "metadata": {},
     "output_type": "execute_result"
    }
   ],
   "source": [
    "l1=[i**2 for i in range(10)]\n",
    "l1"
   ]
  },
  {
   "cell_type": "code",
   "execution_count": 20,
   "id": "b3f4b5f9",
   "metadata": {},
   "outputs": [
    {
     "data": {
      "text/plain": [
       "['1', '2', '3', '4', '5', '6', '9']"
      ]
     },
     "execution_count": 20,
     "metadata": {},
     "output_type": "execute_result"
    }
   ],
   "source": [
    "# Extract numbers from a string\n",
    "mystr = \"One 1 two 2 three 3 four 4 five 5 six 69\"\n",
    "numbers = [i for i in mystr if i.isdigit()]\n",
    "numbers"
   ]
  },
  {
   "cell_type": "code",
   "execution_count": 21,
   "id": "106a73c3",
   "metadata": {},
   "outputs": [
    {
     "data": {
      "text/plain": [
       "['O',\n",
       " 'n',\n",
       " 'e',\n",
       " 't',\n",
       " 'w',\n",
       " 'o',\n",
       " 't',\n",
       " 'h',\n",
       " 'r',\n",
       " 'e',\n",
       " 'e',\n",
       " 'f',\n",
       " 'o',\n",
       " 'u',\n",
       " 'r',\n",
       " 'f',\n",
       " 'i',\n",
       " 'v',\n",
       " 'e',\n",
       " 's',\n",
       " 'i',\n",
       " 'x']"
      ]
     },
     "execution_count": 21,
     "metadata": {},
     "output_type": "execute_result"
    }
   ],
   "source": [
    "alpha = [i for i in mystr if i.isalpha()]\n",
    "alpha\n"
   ]
  },
  {
   "cell_type": "markdown",
   "id": "7b477c03",
   "metadata": {},
   "source": [
    "# Tuples\n",
    "- tuple is the orderd collection of heterogeneous elements\n",
    "- tuple is immutable we can not change the elements of tuples onces assigned\n",
    "- tuple is faster iterating over the elements \n",
    "- tuples is assigned using paranthesis\n",
    "- tuple indexing is similar as list\n",
    "- length of the string can be find using len() function\n",
    "- "
   ]
  },
  {
   "cell_type": "code",
   "execution_count": 22,
   "id": "c6519c4c",
   "metadata": {},
   "outputs": [
    {
     "data": {
      "text/plain": [
       "(12, 35, 84, 98)"
      ]
     },
     "execution_count": 22,
     "metadata": {},
     "output_type": "execute_result"
    }
   ],
   "source": [
    "a=(12,35,84,98)\n",
    "b=('hello','hi','how','when')\n",
    "c=(12,'hello',45.6,True)\n",
    "a"
   ]
  },
  {
   "cell_type": "code",
   "execution_count": 23,
   "id": "b8e6433b",
   "metadata": {},
   "outputs": [
    {
     "data": {
      "text/plain": [
       "('hello', 'hi', 'how', 'when')"
      ]
     },
     "execution_count": 23,
     "metadata": {},
     "output_type": "execute_result"
    }
   ],
   "source": [
    "b"
   ]
  },
  {
   "cell_type": "code",
   "execution_count": 24,
   "id": "c5583640",
   "metadata": {},
   "outputs": [
    {
     "data": {
      "text/plain": [
       "(12, 'hello', 45.6, True)"
      ]
     },
     "execution_count": 24,
     "metadata": {},
     "output_type": "execute_result"
    }
   ],
   "source": [
    "c"
   ]
  },
  {
   "cell_type": "code",
   "execution_count": 25,
   "id": "3f1708d7",
   "metadata": {},
   "outputs": [
    {
     "data": {
      "text/plain": [
       "4"
      ]
     },
     "execution_count": 25,
     "metadata": {},
     "output_type": "execute_result"
    }
   ],
   "source": [
    "len(b)"
   ]
  },
  {
   "cell_type": "code",
   "execution_count": 27,
   "id": "2597eb3e",
   "metadata": {},
   "outputs": [
    {
     "data": {
      "text/plain": [
       "()"
      ]
     },
     "execution_count": 27,
     "metadata": {},
     "output_type": "execute_result"
    }
   ],
   "source": [
    "tupleempty = ()\n",
    "tupleempty"
   ]
  },
  {
   "cell_type": "markdown",
   "id": "0c9c89a8",
   "metadata": {},
   "source": [
    "Tuple Indexing"
   ]
  },
  {
   "cell_type": "code",
   "execution_count": 28,
   "id": "18c774b0",
   "metadata": {},
   "outputs": [
    {
     "data": {
      "text/plain": [
       "84"
      ]
     },
     "execution_count": 28,
     "metadata": {},
     "output_type": "execute_result"
    }
   ],
   "source": [
    "a[2]"
   ]
  },
  {
   "cell_type": "code",
   "execution_count": 57,
   "id": "78869e19",
   "metadata": {},
   "outputs": [
    {
     "data": {
      "text/plain": [
       "2"
      ]
     },
     "execution_count": 57,
     "metadata": {},
     "output_type": "execute_result"
    }
   ],
   "source": [
    "a.index(84)"
   ]
  },
  {
   "cell_type": "code",
   "execution_count": 58,
   "id": "7a32934c",
   "metadata": {},
   "outputs": [
    {
     "data": {
      "text/plain": [
       "1"
      ]
     },
     "execution_count": 58,
     "metadata": {},
     "output_type": "execute_result"
    }
   ],
   "source": [
    "b.index('hi')"
   ]
  },
  {
   "cell_type": "code",
   "execution_count": 29,
   "id": "43178d0d",
   "metadata": {},
   "outputs": [
    {
     "data": {
      "text/plain": [
       "98"
      ]
     },
     "execution_count": 29,
     "metadata": {},
     "output_type": "execute_result"
    }
   ],
   "source": [
    "a[-1]"
   ]
  },
  {
   "cell_type": "code",
   "execution_count": 32,
   "id": "63570cd3",
   "metadata": {},
   "outputs": [
    {
     "data": {
      "text/plain": [
       "'hello'"
      ]
     },
     "execution_count": 32,
     "metadata": {},
     "output_type": "execute_result"
    }
   ],
   "source": [
    "b[0]"
   ]
  },
  {
   "cell_type": "code",
   "execution_count": 34,
   "id": "3d6ba03f",
   "metadata": {},
   "outputs": [
    {
     "data": {
      "text/plain": [
       "'how'"
      ]
     },
     "execution_count": 34,
     "metadata": {},
     "output_type": "execute_result"
    }
   ],
   "source": [
    "b[2]"
   ]
  },
  {
   "cell_type": "markdown",
   "id": "33dd0792",
   "metadata": {},
   "source": [
    "Tuple Slicing"
   ]
  },
  {
   "cell_type": "code",
   "execution_count": 46,
   "id": "4bbf7ccd",
   "metadata": {},
   "outputs": [],
   "source": [
    "tup1 = ('one' , 'two' , 'three' , 'four' , 'five' , 'six' , 'seven' , 'eight')"
   ]
  },
  {
   "cell_type": "code",
   "execution_count": 37,
   "id": "f744302a",
   "metadata": {},
   "outputs": [
    {
     "data": {
      "text/plain": [
       "('one', 'two', 'three', 'four', 'five', 'six', 'seven', 'eight')"
      ]
     },
     "execution_count": 37,
     "metadata": {},
     "output_type": "execute_result"
    }
   ],
   "source": [
    "tup1[::]"
   ]
  },
  {
   "cell_type": "code",
   "execution_count": 41,
   "id": "bf632331",
   "metadata": {},
   "outputs": [
    {
     "data": {
      "text/plain": [
       "('eight', 'seven', 'six', 'five', 'four', 'three', 'two', 'one')"
      ]
     },
     "execution_count": 41,
     "metadata": {},
     "output_type": "execute_result"
    }
   ],
   "source": [
    "tup1[::-1]"
   ]
  },
  {
   "cell_type": "markdown",
   "id": "17f682b1",
   "metadata": {},
   "source": [
    "Remove and change items in tuples\n",
    "- we can delete entire tuple using del() function\n",
    "- item assignment is not possible "
   ]
  },
  {
   "cell_type": "code",
   "execution_count": 45,
   "id": "220c6d68",
   "metadata": {},
   "outputs": [
    {
     "ename": "TypeError",
     "evalue": "'tuple' object does not support item assignment",
     "output_type": "error",
     "traceback": [
      "\u001b[1;31m---------------------------------------------------------------------------\u001b[0m",
      "\u001b[1;31mTypeError\u001b[0m                                 Traceback (most recent call last)",
      "\u001b[1;32m~\\AppData\\Local\\Temp/ipykernel_30868/3733057811.py\u001b[0m in \u001b[0;36m<module>\u001b[1;34m\u001b[0m\n\u001b[1;32m----> 1\u001b[1;33m \u001b[0mtup1\u001b[0m\u001b[1;33m[\u001b[0m\u001b[1;36m2\u001b[0m\u001b[1;33m]\u001b[0m\u001b[1;33m=\u001b[0m\u001b[1;36m6\u001b[0m\u001b[1;33m\u001b[0m\u001b[1;33m\u001b[0m\u001b[0m\n\u001b[0m",
      "\u001b[1;31mTypeError\u001b[0m: 'tuple' object does not support item assignment"
     ]
    }
   ],
   "source": [
    "tup1[2]=6"
   ]
  },
  {
   "cell_type": "code",
   "execution_count": 42,
   "id": "878a02cf",
   "metadata": {},
   "outputs": [],
   "source": [
    "del tup1"
   ]
  },
  {
   "cell_type": "code",
   "execution_count": 43,
   "id": "1ae04ef0",
   "metadata": {},
   "outputs": [
    {
     "ename": "NameError",
     "evalue": "name 'tup1' is not defined",
     "output_type": "error",
     "traceback": [
      "\u001b[1;31m---------------------------------------------------------------------------\u001b[0m",
      "\u001b[1;31mNameError\u001b[0m                                 Traceback (most recent call last)",
      "\u001b[1;32m~\\AppData\\Local\\Temp/ipykernel_30868/3559505791.py\u001b[0m in \u001b[0;36m<module>\u001b[1;34m\u001b[0m\n\u001b[1;32m----> 1\u001b[1;33m \u001b[0mtup1\u001b[0m\u001b[1;33m\u001b[0m\u001b[1;33m\u001b[0m\u001b[0m\n\u001b[0m",
      "\u001b[1;31mNameError\u001b[0m: name 'tup1' is not defined"
     ]
    }
   ],
   "source": [
    "tup1"
   ]
  },
  {
   "cell_type": "markdown",
   "id": "e3de1a8e",
   "metadata": {},
   "source": [
    "Loop through tuple"
   ]
  },
  {
   "cell_type": "code",
   "execution_count": 47,
   "id": "4105297b",
   "metadata": {},
   "outputs": [
    {
     "name": "stdout",
     "output_type": "stream",
     "text": [
      "one\n",
      "two\n",
      "three\n",
      "four\n",
      "five\n",
      "six\n",
      "seven\n",
      "eight\n"
     ]
    }
   ],
   "source": [
    "for i in tup1:\n",
    "    print(i)"
   ]
  },
  {
   "cell_type": "code",
   "execution_count": 48,
   "id": "4e9199b5",
   "metadata": {},
   "outputs": [
    {
     "name": "stdout",
     "output_type": "stream",
     "text": [
      "(0, 'one')\n",
      "(1, 'two')\n",
      "(2, 'three')\n",
      "(3, 'four')\n",
      "(4, 'five')\n",
      "(5, 'six')\n",
      "(6, 'seven')\n",
      "(7, 'eight')\n"
     ]
    }
   ],
   "source": [
    "for i in enumerate(tup1):\n",
    "    print(i)"
   ]
  },
  {
   "cell_type": "markdown",
   "id": "60895707",
   "metadata": {},
   "source": [
    "Count() - count() function is used to count the number of times the item appear in tuple"
   ]
  },
  {
   "cell_type": "code",
   "execution_count": 49,
   "id": "fc099324",
   "metadata": {},
   "outputs": [],
   "source": [
    "tup2 = ('one' , 'two' , 'three' , 'four' , 'five' , 'six' , 'seven' , 'eight','one' , 'two' , 'three' , 'four' , 'five' , 'six' , 'seven' , 'eight','one' , 'two' , 'three' , 'four' , 'five' , 'six' , 'seven' , 'eight','one' , 'two' , 'three' , 'four' , 'five' , 'six' , 'seven' , 'eight','one' , 'two' , 'three' , 'four' , 'five' , 'six' , 'seven' , 'eight')"
   ]
  },
  {
   "cell_type": "code",
   "execution_count": 50,
   "id": "9a9de692",
   "metadata": {},
   "outputs": [
    {
     "data": {
      "text/plain": [
       "('one',\n",
       " 'two',\n",
       " 'three',\n",
       " 'four',\n",
       " 'five',\n",
       " 'six',\n",
       " 'seven',\n",
       " 'eight',\n",
       " 'one',\n",
       " 'two',\n",
       " 'three',\n",
       " 'four',\n",
       " 'five',\n",
       " 'six',\n",
       " 'seven',\n",
       " 'eight',\n",
       " 'one',\n",
       " 'two',\n",
       " 'three',\n",
       " 'four',\n",
       " 'five',\n",
       " 'six',\n",
       " 'seven',\n",
       " 'eight',\n",
       " 'one',\n",
       " 'two',\n",
       " 'three',\n",
       " 'four',\n",
       " 'five',\n",
       " 'six',\n",
       " 'seven',\n",
       " 'eight',\n",
       " 'one',\n",
       " 'two',\n",
       " 'three',\n",
       " 'four',\n",
       " 'five',\n",
       " 'six',\n",
       " 'seven',\n",
       " 'eight')"
      ]
     },
     "execution_count": 50,
     "metadata": {},
     "output_type": "execute_result"
    }
   ],
   "source": [
    "tup2"
   ]
  },
  {
   "cell_type": "code",
   "execution_count": 51,
   "id": "c5f78221",
   "metadata": {},
   "outputs": [
    {
     "data": {
      "text/plain": [
       "5"
      ]
     },
     "execution_count": 51,
     "metadata": {},
     "output_type": "execute_result"
    }
   ],
   "source": [
    "tup2.count('one')"
   ]
  },
  {
   "cell_type": "markdown",
   "id": "be440128",
   "metadata": {},
   "source": [
    "Tuple Membership - used to check weather the element is present in tuple or not"
   ]
  },
  {
   "cell_type": "code",
   "execution_count": 54,
   "id": "c3350e0b",
   "metadata": {},
   "outputs": [
    {
     "data": {
      "text/plain": [
       "True"
      ]
     },
     "execution_count": 54,
     "metadata": {},
     "output_type": "execute_result"
    }
   ],
   "source": [
    "'three' in tup2\n"
   ]
  },
  {
   "cell_type": "code",
   "execution_count": 55,
   "id": "589ce8d7",
   "metadata": {},
   "outputs": [
    {
     "data": {
      "text/plain": [
       "False"
      ]
     },
     "execution_count": 55,
     "metadata": {},
     "output_type": "execute_result"
    }
   ],
   "source": [
    "10 in tup2"
   ]
  },
  {
   "cell_type": "markdown",
   "id": "b8213166",
   "metadata": {},
   "source": [
    "Sorting"
   ]
  },
  {
   "cell_type": "code",
   "execution_count": 62,
   "id": "fffd786c",
   "metadata": {},
   "outputs": [],
   "source": [
    "tup3= (21,52,48,12,63,32,12,1,2,7,6,98)"
   ]
  },
  {
   "cell_type": "code",
   "execution_count": 64,
   "id": "aef0e4eb",
   "metadata": {},
   "outputs": [
    {
     "data": {
      "text/plain": [
       "[1, 2, 6, 7, 12, 12, 21, 32, 48, 52, 63, 98]"
      ]
     },
     "execution_count": 64,
     "metadata": {},
     "output_type": "execute_result"
    }
   ],
   "source": [
    "sorted(tup3)\n"
   ]
  },
  {
   "cell_type": "code",
   "execution_count": 66,
   "id": "be095f32",
   "metadata": {},
   "outputs": [
    {
     "data": {
      "text/plain": [
       "[98, 63, 52, 48, 32, 21, 12, 12, 7, 6, 2, 1]"
      ]
     },
     "execution_count": 66,
     "metadata": {},
     "output_type": "execute_result"
    }
   ],
   "source": [
    "sorted(tup3, reverse=True)"
   ]
  },
  {
   "cell_type": "markdown",
   "id": "50d63a20",
   "metadata": {},
   "source": [
    "Set\n",
    "- set is a unorderd collection of elements\n",
    "- set is unindexed\n",
    "- set elements are immutable duplicates are not allowed\n",
    "- set is mutable we can add or remove items from it\n",
    "- it is created using curly braces\n",
    "- set is heterogeneous\n",
    "- .add() used to add elements in a set\n",
    "- .remove() used to remove the element\n",
    "- .update() add multiple elements\n",
    "- .discard() remove item from the set\n",
    "- .clear() delete all the items in a set\n",
    "- del function use to delete the complete set"
   ]
  },
  {
   "cell_type": "code",
   "execution_count": 69,
   "id": "ea487b4c",
   "metadata": {},
   "outputs": [
    {
     "data": {
      "text/plain": [
       "{32.54, True, 'hsgd'}"
      ]
     },
     "execution_count": 69,
     "metadata": {},
     "output_type": "execute_result"
    }
   ],
   "source": [
    "set1={32.54,'hsgd',True}\n",
    "set1"
   ]
  },
  {
   "cell_type": "code",
   "execution_count": 70,
   "id": "86f8ee2e",
   "metadata": {},
   "outputs": [
    {
     "data": {
      "text/plain": [
       "3"
      ]
     },
     "execution_count": 70,
     "metadata": {},
     "output_type": "execute_result"
    }
   ],
   "source": [
    "len(set1)"
   ]
  },
  {
   "cell_type": "code",
   "execution_count": 71,
   "id": "c2b2fabc",
   "metadata": {},
   "outputs": [
    {
     "data": {
      "text/plain": [
       "{(11, 22, 32), 10, 20, 'Hola'}"
      ]
     },
     "execution_count": 71,
     "metadata": {},
     "output_type": "execute_result"
    }
   ],
   "source": [
    "yset3 = {10,20, \"Hola\", (11, 22, 32)}\n",
    "yset3"
   ]
  },
  {
   "cell_type": "code",
   "execution_count": 72,
   "id": "95195563",
   "metadata": {},
   "outputs": [
    {
     "data": {
      "text/plain": [
       "set()"
      ]
     },
     "execution_count": 72,
     "metadata": {},
     "output_type": "execute_result"
    }
   ],
   "source": [
    "myset=set()\n",
    "myset"
   ]
  },
  {
   "cell_type": "code",
   "execution_count": 74,
   "id": "dd008ded",
   "metadata": {},
   "outputs": [
    {
     "name": "stdout",
     "output_type": "stream",
     "text": [
      "<class 'set'>\n"
     ]
    }
   ],
   "source": [
    "print(type(myset))"
   ]
  },
  {
   "cell_type": "markdown",
   "id": "3b76370c",
   "metadata": {},
   "source": [
    "Loop Through set"
   ]
  },
  {
   "cell_type": "code",
   "execution_count": 76,
   "id": "279e1746",
   "metadata": {},
   "outputs": [
    {
     "name": "stdout",
     "output_type": "stream",
     "text": [
      "32.54\n",
      "True\n",
      "hsgd\n"
     ]
    }
   ],
   "source": [
    "for i in set1:\n",
    "    print (i)"
   ]
  },
  {
   "cell_type": "code",
   "execution_count": 77,
   "id": "16840680",
   "metadata": {},
   "outputs": [
    {
     "name": "stdout",
     "output_type": "stream",
     "text": [
      "(0, 32.54)\n",
      "(1, True)\n",
      "(2, 'hsgd')\n"
     ]
    }
   ],
   "source": [
    "for i in enumerate(set1):\n",
    "    print(i)"
   ]
  },
  {
   "cell_type": "markdown",
   "id": "384bb876",
   "metadata": {},
   "source": [
    "Set Membership"
   ]
  },
  {
   "cell_type": "code",
   "execution_count": 78,
   "id": "9969d05a",
   "metadata": {},
   "outputs": [
    {
     "data": {
      "text/plain": [
       "False"
      ]
     },
     "execution_count": 78,
     "metadata": {},
     "output_type": "execute_result"
    }
   ],
   "source": [
    "False in set1"
   ]
  },
  {
   "cell_type": "code",
   "execution_count": 79,
   "id": "383938dd",
   "metadata": {},
   "outputs": [
    {
     "data": {
      "text/plain": [
       "True"
      ]
     },
     "execution_count": 79,
     "metadata": {},
     "output_type": "execute_result"
    }
   ],
   "source": [
    "'hsgd' in set1"
   ]
  },
  {
   "cell_type": "markdown",
   "id": "da734b96",
   "metadata": {},
   "source": [
    "Add or remove items"
   ]
  },
  {
   "cell_type": "code",
   "execution_count": 81,
   "id": "39b16cc8",
   "metadata": {},
   "outputs": [
    {
     "data": {
      "text/plain": [
       "{32, 32.54, True, 'hsgd'}"
      ]
     },
     "execution_count": 81,
     "metadata": {},
     "output_type": "execute_result"
    }
   ],
   "source": [
    "set1.add(32)\n",
    "set1"
   ]
  },
  {
   "cell_type": "code",
   "execution_count": 82,
   "id": "39f309d9",
   "metadata": {},
   "outputs": [
    {
     "data": {
      "text/plain": [
       "{32, 32.54, 46, 65, 85, 97, True, 'hsgd'}"
      ]
     },
     "execution_count": 82,
     "metadata": {},
     "output_type": "execute_result"
    }
   ],
   "source": [
    "set1.update([65,85,97,46])\n",
    "set1"
   ]
  },
  {
   "cell_type": "code",
   "execution_count": 84,
   "id": "d09a4cba",
   "metadata": {},
   "outputs": [],
   "source": [
    "set1.remove(65)"
   ]
  },
  {
   "cell_type": "code",
   "execution_count": 86,
   "id": "f53a91a4",
   "metadata": {},
   "outputs": [
    {
     "data": {
      "text/plain": [
       "{32, 32.54, 46, 85, 97, True, 'hsgd'}"
      ]
     },
     "execution_count": 86,
     "metadata": {},
     "output_type": "execute_result"
    }
   ],
   "source": [
    "set1"
   ]
  },
  {
   "cell_type": "code",
   "execution_count": 87,
   "id": "faad2387",
   "metadata": {},
   "outputs": [
    {
     "data": {
      "text/plain": [
       "{32, 32.54, 46, 85, 97, 'hsgd'}"
      ]
     },
     "execution_count": 87,
     "metadata": {},
     "output_type": "execute_result"
    }
   ],
   "source": [
    "set1.discard(True)\n",
    "set1"
   ]
  },
  {
   "cell_type": "code",
   "execution_count": 88,
   "id": "c2b1c946",
   "metadata": {},
   "outputs": [
    {
     "data": {
      "text/plain": [
       "set()"
      ]
     },
     "execution_count": 88,
     "metadata": {},
     "output_type": "execute_result"
    }
   ],
   "source": [
    "set1.clear()\n",
    "set1"
   ]
  },
  {
   "cell_type": "code",
   "execution_count": 89,
   "id": "bc342699",
   "metadata": {},
   "outputs": [
    {
     "ename": "NameError",
     "evalue": "name 'set1' is not defined",
     "output_type": "error",
     "traceback": [
      "\u001b[1;31m---------------------------------------------------------------------------\u001b[0m",
      "\u001b[1;31mNameError\u001b[0m                                 Traceback (most recent call last)",
      "\u001b[1;32m~\\AppData\\Local\\Temp/ipykernel_30868/3856213707.py\u001b[0m in \u001b[0;36m<module>\u001b[1;34m\u001b[0m\n\u001b[0;32m      1\u001b[0m \u001b[1;32mdel\u001b[0m \u001b[0mset1\u001b[0m\u001b[1;33m\u001b[0m\u001b[1;33m\u001b[0m\u001b[0m\n\u001b[1;32m----> 2\u001b[1;33m \u001b[0mset1\u001b[0m\u001b[1;33m\u001b[0m\u001b[1;33m\u001b[0m\u001b[0m\n\u001b[0m",
      "\u001b[1;31mNameError\u001b[0m: name 'set1' is not defined"
     ]
    }
   ],
   "source": [
    "del set1\n",
    "set1"
   ]
  },
  {
   "cell_type": "markdown",
   "id": "0e9774f8",
   "metadata": {},
   "source": [
    "# Set Operations"
   ]
  },
  {
   "cell_type": "markdown",
   "id": "902b4ff4",
   "metadata": {},
   "source": [
    "| -> Union of set all the elements from both sets without duplicates\n"
   ]
  },
  {
   "cell_type": "code",
   "execution_count": 95,
   "id": "d4dc5901",
   "metadata": {},
   "outputs": [],
   "source": [
    "a={1,5,8,6,7,3}\n",
    "b={2,3,4,6,9}\n",
    "c={6,7,2,9,4,11,23,54}"
   ]
  },
  {
   "cell_type": "code",
   "execution_count": 93,
   "id": "47fbc1c1",
   "metadata": {},
   "outputs": [
    {
     "data": {
      "text/plain": [
       "{1, 2, 3, 4, 5, 6, 7, 8, 9}"
      ]
     },
     "execution_count": 93,
     "metadata": {},
     "output_type": "execute_result"
    }
   ],
   "source": [
    "a|b"
   ]
  },
  {
   "cell_type": "code",
   "execution_count": 94,
   "id": "53a74ae8",
   "metadata": {},
   "outputs": [
    {
     "data": {
      "text/plain": [
       "{1, 2, 3, 4, 5, 6, 7, 8, 9}"
      ]
     },
     "execution_count": 94,
     "metadata": {},
     "output_type": "execute_result"
    }
   ],
   "source": [
    "a.union(b)"
   ]
  },
  {
   "cell_type": "code",
   "execution_count": 96,
   "id": "3b6905d1",
   "metadata": {},
   "outputs": [
    {
     "data": {
      "text/plain": [
       "{1, 2, 3, 4, 5, 6, 7, 8, 9, 11, 23, 54}"
      ]
     },
     "execution_count": 96,
     "metadata": {},
     "output_type": "execute_result"
    }
   ],
   "source": [
    "a.union(b,c)"
   ]
  },
  {
   "cell_type": "markdown",
   "id": "8839e366",
   "metadata": {},
   "source": [
    "a will be updated with union of a, b and c"
   ]
  },
  {
   "cell_type": "code",
   "execution_count": 98,
   "id": "fdbec91e",
   "metadata": {},
   "outputs": [
    {
     "data": {
      "text/plain": [
       "{1, 2, 3, 4, 5, 6, 7, 8, 9, 11, 23, 54}"
      ]
     },
     "execution_count": 98,
     "metadata": {},
     "output_type": "execute_result"
    }
   ],
   "source": [
    "a.update(b,c)\n",
    "a"
   ]
  },
  {
   "cell_type": "markdown",
   "id": "6d1659dd",
   "metadata": {},
   "source": [
    "Intersection\n",
    "- &\n",
    "- a.intersection(b)\n",
    "- returns common elements from both the sets"
   ]
  },
  {
   "cell_type": "code",
   "execution_count": 100,
   "id": "866bb597",
   "metadata": {},
   "outputs": [
    {
     "data": {
      "text/plain": [
       "{2, 3, 4, 6, 9}"
      ]
     },
     "execution_count": 100,
     "metadata": {},
     "output_type": "execute_result"
    }
   ],
   "source": [
    "a & b"
   ]
  },
  {
   "cell_type": "code",
   "execution_count": 101,
   "id": "36808b3f",
   "metadata": {},
   "outputs": [
    {
     "data": {
      "text/plain": [
       "{2, 3, 4, 6, 9}"
      ]
     },
     "execution_count": 101,
     "metadata": {},
     "output_type": "execute_result"
    }
   ],
   "source": [
    "a.intersection(b)"
   ]
  },
  {
   "cell_type": "code",
   "execution_count": 103,
   "id": "1fd92be2",
   "metadata": {},
   "outputs": [],
   "source": [
    "a.intersection_update(b)"
   ]
  },
  {
   "cell_type": "code",
   "execution_count": 104,
   "id": "969765f6",
   "metadata": {},
   "outputs": [
    {
     "data": {
      "text/plain": [
       "{2, 3, 4, 6, 9}"
      ]
     },
     "execution_count": 104,
     "metadata": {},
     "output_type": "execute_result"
    }
   ],
   "source": [
    "a"
   ]
  },
  {
   "cell_type": "markdown",
   "id": "9b5603e3",
   "metadata": {},
   "source": [
    "Difference\n",
    "- use '-' sign\n",
    "- set of elements that are in a but not in b\n",
    "- a.difference(b)"
   ]
  },
  {
   "cell_type": "code",
   "execution_count": 107,
   "id": "41752226",
   "metadata": {},
   "outputs": [
    {
     "data": {
      "text/plain": [
       "{2, 3, 4, 6, 9}"
      ]
     },
     "execution_count": 107,
     "metadata": {},
     "output_type": "execute_result"
    }
   ],
   "source": [
    "b"
   ]
  },
  {
   "cell_type": "code",
   "execution_count": 108,
   "id": "4c6d3d10",
   "metadata": {},
   "outputs": [
    {
     "data": {
      "text/plain": [
       "{1, 2, 3, 4, 5, 6, 8}"
      ]
     },
     "execution_count": 108,
     "metadata": {},
     "output_type": "execute_result"
    }
   ],
   "source": [
    "a={1,4,2,3,5,8,6,8}\n",
    "a"
   ]
  },
  {
   "cell_type": "code",
   "execution_count": 109,
   "id": "60d9373d",
   "metadata": {},
   "outputs": [
    {
     "data": {
      "text/plain": [
       "{9}"
      ]
     },
     "execution_count": 109,
     "metadata": {},
     "output_type": "execute_result"
    }
   ],
   "source": [
    "b-a"
   ]
  },
  {
   "cell_type": "code",
   "execution_count": 110,
   "id": "98da36d0",
   "metadata": {},
   "outputs": [
    {
     "data": {
      "text/plain": [
       "{1, 5, 8}"
      ]
     },
     "execution_count": 110,
     "metadata": {},
     "output_type": "execute_result"
    }
   ],
   "source": [
    "a-b"
   ]
  },
  {
   "cell_type": "code",
   "execution_count": 111,
   "id": "8311ebcc",
   "metadata": {},
   "outputs": [
    {
     "data": {
      "text/plain": [
       "{1, 5, 8}"
      ]
     },
     "execution_count": 111,
     "metadata": {},
     "output_type": "execute_result"
    }
   ],
   "source": [
    "a.difference(b)"
   ]
  },
  {
   "cell_type": "code",
   "execution_count": 113,
   "id": "c12820fa",
   "metadata": {},
   "outputs": [
    {
     "data": {
      "text/plain": [
       "{9}"
      ]
     },
     "execution_count": 113,
     "metadata": {},
     "output_type": "execute_result"
    }
   ],
   "source": [
    "b.difference(a)"
   ]
  },
  {
   "cell_type": "code",
   "execution_count": 114,
   "id": "2eadd870",
   "metadata": {},
   "outputs": [
    {
     "data": {
      "text/plain": [
       "{2, 3, 4, 6, 9}"
      ]
     },
     "execution_count": 114,
     "metadata": {},
     "output_type": "execute_result"
    }
   ],
   "source": [
    "a.difference_update(b)\n",
    "b"
   ]
  },
  {
   "cell_type": "code",
   "execution_count": 115,
   "id": "afc046e6",
   "metadata": {},
   "outputs": [
    {
     "data": {
      "text/plain": [
       "{1, 5, 8}"
      ]
     },
     "execution_count": 115,
     "metadata": {},
     "output_type": "execute_result"
    }
   ],
   "source": [
    "a"
   ]
  },
  {
   "cell_type": "markdown",
   "id": "0dc833f2",
   "metadata": {},
   "source": [
    "Symmetric difference\n",
    "- elements of set A but not in b"
   ]
  },
  {
   "cell_type": "code",
   "execution_count": 116,
   "id": "ee0e448a",
   "metadata": {},
   "outputs": [
    {
     "data": {
      "text/plain": [
       "{1, 2, 3, 4, 5, 6, 8, 9}"
      ]
     },
     "execution_count": 116,
     "metadata": {},
     "output_type": "execute_result"
    }
   ],
   "source": [
    "a^b"
   ]
  },
  {
   "cell_type": "code",
   "execution_count": 117,
   "id": "23a9d288",
   "metadata": {},
   "outputs": [
    {
     "data": {
      "text/plain": [
       "{1, 2, 3, 4, 5, 6, 8, 9}"
      ]
     },
     "execution_count": 117,
     "metadata": {},
     "output_type": "execute_result"
    }
   ],
   "source": [
    "a.symmetric_difference(b)"
   ]
  },
  {
   "cell_type": "code",
   "execution_count": 119,
   "id": "cf2eed1a",
   "metadata": {
    "scrolled": false
   },
   "outputs": [
    {
     "data": {
      "text/plain": [
       "{1, 5, 8}"
      ]
     },
     "execution_count": 119,
     "metadata": {},
     "output_type": "execute_result"
    }
   ],
   "source": [
    "a.symmetric_difference_update(b)\n",
    "a"
   ]
  },
  {
   "cell_type": "markdown",
   "id": "5f43f0c0",
   "metadata": {},
   "source": [
    "Subset, Superset,Disjoint"
   ]
  },
  {
   "cell_type": "code",
   "execution_count": 122,
   "id": "925b60cb",
   "metadata": {},
   "outputs": [],
   "source": [
    "a={1,5,8,6,7,3}\n",
    "b={2,3,4,6,9}\n",
    "d={1,5,8}\n",
    "c={6,7,2,9,4,11,23,54}"
   ]
  },
  {
   "cell_type": "code",
   "execution_count": 123,
   "id": "05ebc154",
   "metadata": {},
   "outputs": [
    {
     "data": {
      "text/plain": [
       "False"
      ]
     },
     "execution_count": 123,
     "metadata": {},
     "output_type": "execute_result"
    }
   ],
   "source": [
    "b.issubset(c)"
   ]
  },
  {
   "cell_type": "markdown",
   "id": "74ed2a4a",
   "metadata": {},
   "source": [
    "- subset is when a set contains only elements that are also in another set, while a superset is when a set contains all the elements of another set, possibly along with additional elements\n",
    "- two sets are disjoint if they have no elements in common."
   ]
  },
  {
   "cell_type": "code",
   "execution_count": 124,
   "id": "8c35ef8c",
   "metadata": {},
   "outputs": [
    {
     "data": {
      "text/plain": [
       "True"
      ]
     },
     "execution_count": 124,
     "metadata": {},
     "output_type": "execute_result"
    }
   ],
   "source": [
    "d.issubset(a)"
   ]
  },
  {
   "cell_type": "code",
   "execution_count": 125,
   "id": "7250403c",
   "metadata": {},
   "outputs": [
    {
     "data": {
      "text/plain": [
       "False"
      ]
     },
     "execution_count": 125,
     "metadata": {},
     "output_type": "execute_result"
    }
   ],
   "source": [
    "b.isdisjoint(c)"
   ]
  },
  {
   "cell_type": "code",
   "execution_count": 126,
   "id": "d3f3dd8c",
   "metadata": {},
   "outputs": [
    {
     "data": {
      "text/plain": [
       "True"
      ]
     },
     "execution_count": 126,
     "metadata": {},
     "output_type": "execute_result"
    }
   ],
   "source": [
    "b.isdisjoint(d)"
   ]
  },
  {
   "cell_type": "markdown",
   "id": "11392fd7",
   "metadata": {},
   "source": [
    "Other Functions\n",
    "- Sum() returns the sum of all the elmenys in a set\n",
    "- max() - returns largest number\n",
    "- min() - returns smallest number\n",
    "- len() - returns length of a set\n",
    "- list(enumerate()) - returns list of the index and elements in set\n",
    "- sorted () - returns the sortes set in ascending order\n",
    "- sorted(reverse=True) - returns sorted in descending order"
   ]
  },
  {
   "cell_type": "code",
   "execution_count": 127,
   "id": "e725c57c",
   "metadata": {},
   "outputs": [
    {
     "data": {
      "text/plain": [
       "30"
      ]
     },
     "execution_count": 127,
     "metadata": {},
     "output_type": "execute_result"
    }
   ],
   "source": [
    "sum(a)"
   ]
  },
  {
   "cell_type": "code",
   "execution_count": 128,
   "id": "3cf7d55f",
   "metadata": {},
   "outputs": [
    {
     "data": {
      "text/plain": [
       "8"
      ]
     },
     "execution_count": 128,
     "metadata": {},
     "output_type": "execute_result"
    }
   ],
   "source": [
    "max(a)"
   ]
  },
  {
   "cell_type": "code",
   "execution_count": 129,
   "id": "704ec86c",
   "metadata": {},
   "outputs": [
    {
     "data": {
      "text/plain": [
       "1"
      ]
     },
     "execution_count": 129,
     "metadata": {},
     "output_type": "execute_result"
    }
   ],
   "source": [
    "min(a)"
   ]
  },
  {
   "cell_type": "code",
   "execution_count": 130,
   "id": "d4795c81",
   "metadata": {},
   "outputs": [
    {
     "data": {
      "text/plain": [
       "{1, 3, 5, 6, 7, 8}"
      ]
     },
     "execution_count": 130,
     "metadata": {},
     "output_type": "execute_result"
    }
   ],
   "source": [
    "a"
   ]
  },
  {
   "cell_type": "code",
   "execution_count": 131,
   "id": "ec33f06b",
   "metadata": {},
   "outputs": [
    {
     "data": {
      "text/plain": [
       "[1, 3, 5, 6, 7, 8]"
      ]
     },
     "execution_count": 131,
     "metadata": {},
     "output_type": "execute_result"
    }
   ],
   "source": [
    "sorted(a)"
   ]
  },
  {
   "cell_type": "code",
   "execution_count": 132,
   "id": "7b87c704",
   "metadata": {},
   "outputs": [
    {
     "data": {
      "text/plain": [
       "[8, 7, 6, 5, 3, 1]"
      ]
     },
     "execution_count": 132,
     "metadata": {},
     "output_type": "execute_result"
    }
   ],
   "source": [
    "sorted(a,reverse=True)"
   ]
  },
  {
   "cell_type": "markdown",
   "id": "62e3e7b7",
   "metadata": {},
   "source": [
    "# Dictionary\n",
    "- a collection of key-value pairs\n",
    "- keys can not be duplicate values can be duplicate allow\n",
    "- keys and values are seperated by ':' colon and enclosed in {} curly braces\n",
    "- dictionary in a python is mutable"
   ]
  },
  {
   "cell_type": "markdown",
   "id": "a7320b81",
   "metadata": {},
   "source": [
    "Create empty dictionary"
   ]
  },
  {
   "cell_type": "code",
   "execution_count": 134,
   "id": "3992b5cc",
   "metadata": {},
   "outputs": [
    {
     "data": {
      "text/plain": [
       "{}"
      ]
     },
     "execution_count": 134,
     "metadata": {},
     "output_type": "execute_result"
    }
   ],
   "source": [
    "dict1 = dict()\n",
    "dict1"
   ]
  },
  {
   "cell_type": "code",
   "execution_count": 136,
   "id": "89172241",
   "metadata": {},
   "outputs": [
    {
     "name": "stdout",
     "output_type": "stream",
     "text": [
      "<class 'dict'>\n"
     ]
    }
   ],
   "source": [
    "print(type(dict1))"
   ]
  },
  {
   "cell_type": "code",
   "execution_count": 137,
   "id": "897a6309",
   "metadata": {},
   "outputs": [
    {
     "data": {
      "text/plain": [
       "{1: 'How', 2: 'what', 3: 'when', 4: 'why', 5: 'where'}"
      ]
     },
     "execution_count": 137,
     "metadata": {},
     "output_type": "execute_result"
    }
   ],
   "source": [
    "whwords= {1: 'How',2 : 'what', 3: 'when', 4 : 'why', 5 : 'where'}\n",
    "whwords"
   ]
  },
  {
   "cell_type": "code",
   "execution_count": 138,
   "id": "6cd6ed54",
   "metadata": {},
   "outputs": [
    {
     "data": {
      "text/plain": [
       "{'A': 'How', 'B': 'what', 'C': 'when', 'D': 'why', 'E': 'where'}"
      ]
     },
     "execution_count": 138,
     "metadata": {},
     "output_type": "execute_result"
    }
   ],
   "source": [
    "wh = {'A': 'How','B' : 'what', 'C' : 'when', 'D' : 'why', \"E\" : 'where'}\n",
    "wh"
   ]
  },
  {
   "cell_type": "code",
   "execution_count": 139,
   "id": "755094cf",
   "metadata": {},
   "outputs": [
    {
     "data": {
      "text/plain": [
       "dict_keys(['A', 'B', 'C', 'D', 'E'])"
      ]
     },
     "execution_count": 139,
     "metadata": {},
     "output_type": "execute_result"
    }
   ],
   "source": [
    "wh.keys()"
   ]
  },
  {
   "cell_type": "code",
   "execution_count": 140,
   "id": "a4e8eda9",
   "metadata": {},
   "outputs": [
    {
     "data": {
      "text/plain": [
       "dict_values(['How', 'what', 'when', 'why', 'where'])"
      ]
     },
     "execution_count": 140,
     "metadata": {},
     "output_type": "execute_result"
    }
   ],
   "source": [
    "wh.values()"
   ]
  },
  {
   "cell_type": "code",
   "execution_count": 141,
   "id": "df7505c1",
   "metadata": {},
   "outputs": [
    {
     "data": {
      "text/plain": [
       "dict_items([('A', 'How'), ('B', 'what'), ('C', 'when'), ('D', 'why'), ('E', 'where')])"
      ]
     },
     "execution_count": 141,
     "metadata": {},
     "output_type": "execute_result"
    }
   ],
   "source": [
    "wh.items()"
   ]
  },
  {
   "cell_type": "code",
   "execution_count": 142,
   "id": "eaa25b8c",
   "metadata": {},
   "outputs": [
    {
     "data": {
      "text/plain": [
       "{1: 'How', 2: ('what', 56, 45), 3: 'when', 4: ['why', 54, 84.5], 5: 'where'}"
      ]
     },
     "execution_count": 142,
     "metadata": {},
     "output_type": "execute_result"
    }
   ],
   "source": [
    "words= {1: 'How',2 : ('what',56,45), 3: 'when', 4 : ['why',54,84.5], 5 : 'where'}\n",
    "words"
   ]
  },
  {
   "cell_type": "code",
   "execution_count": 144,
   "id": "25819b13",
   "metadata": {},
   "outputs": [
    {
     "data": {
      "text/plain": [
       "{'a': None, 'b': None, 'd': None, 'c': None}"
      ]
     },
     "execution_count": 144,
     "metadata": {},
     "output_type": "execute_result"
    }
   ],
   "source": [
    "keys={'a','b','c','d'}\n",
    "newdict= dict.fromkeys(keys)\n",
    "newdict"
   ]
  },
  {
   "cell_type": "code",
   "execution_count": 145,
   "id": "6ddf2112",
   "metadata": {},
   "outputs": [
    {
     "data": {
      "text/plain": [
       "{'a': 45, 'b': 45, 'd': 45, 'c': 45}"
      ]
     },
     "execution_count": 145,
     "metadata": {},
     "output_type": "execute_result"
    }
   ],
   "source": [
    "value=45\n",
    "newdict= dict.fromkeys(keys, value)\n",
    "newdict"
   ]
  },
  {
   "cell_type": "code",
   "execution_count": 146,
   "id": "c66e5b9c",
   "metadata": {},
   "outputs": [
    {
     "data": {
      "text/plain": [
       "{1: [10, 20, 30], 2: [10, 20, 30], 3: [10, 20, 30], 4: [10, 20, 30]}"
      ]
     },
     "execution_count": 146,
     "metadata": {},
     "output_type": "execute_result"
    }
   ],
   "source": [
    "keys = {1 , 2 , 3 , 4}\n",
    "value = [10,20,30]\n",
    "mydict3 = dict.fromkeys(keys , value) \n",
    "mydict3"
   ]
  },
  {
   "cell_type": "code",
   "execution_count": 147,
   "id": "cf5c74af",
   "metadata": {},
   "outputs": [
    {
     "data": {
      "text/plain": [
       "{1: [10, 20, 30, 21],\n",
       " 2: [10, 20, 30, 21],\n",
       " 3: [10, 20, 30, 21],\n",
       " 4: [10, 20, 30, 21]}"
      ]
     },
     "execution_count": 147,
     "metadata": {},
     "output_type": "execute_result"
    }
   ],
   "source": [
    "value.append(21)\n",
    "mydict3"
   ]
  },
  {
   "cell_type": "markdown",
   "id": "8af50fbc",
   "metadata": {},
   "source": [
    "Accesing elements in Dictionary"
   ]
  },
  {
   "cell_type": "code",
   "execution_count": 149,
   "id": "1362c050",
   "metadata": {},
   "outputs": [
    {
     "data": {
      "text/plain": [
       "{1: 'one', 2: 'two', 3: 'three', 4: 'four', 5: 'five'}"
      ]
     },
     "execution_count": 149,
     "metadata": {},
     "output_type": "execute_result"
    }
   ],
   "source": [
    "dict1={1:'one', 2: 'two', 3:'three',4:'four',5:'five'}\n",
    "dict1"
   ]
  },
  {
   "cell_type": "code",
   "execution_count": 150,
   "id": "aa3e62b7",
   "metadata": {},
   "outputs": [
    {
     "data": {
      "text/plain": [
       "'one'"
      ]
     },
     "execution_count": 150,
     "metadata": {},
     "output_type": "execute_result"
    }
   ],
   "source": [
    "dict1[1]"
   ]
  },
  {
   "cell_type": "code",
   "execution_count": 151,
   "id": "538bdf80",
   "metadata": {},
   "outputs": [
    {
     "data": {
      "text/plain": [
       "'one'"
      ]
     },
     "execution_count": 151,
     "metadata": {},
     "output_type": "execute_result"
    }
   ],
   "source": [
    "dict1.get(1)"
   ]
  },
  {
   "cell_type": "code",
   "execution_count": 166,
   "id": "fcea34f7",
   "metadata": {},
   "outputs": [
    {
     "data": {
      "text/plain": [
       "{'Name': 'Dipali', 'Age': 23, 'Address': 'Mumbai'}"
      ]
     },
     "execution_count": 166,
     "metadata": {},
     "output_type": "execute_result"
    }
   ],
   "source": [
    "dict2={'Name': 'Dipali','Age':23, 'Address' : 'Mumbai'}\n",
    "dict2"
   ]
  },
  {
   "cell_type": "code",
   "execution_count": 167,
   "id": "a468702f",
   "metadata": {},
   "outputs": [
    {
     "data": {
      "text/plain": [
       "{'Name': 'Dipali', 'Age': 23, 'Address': 'Mumbai', 'DOB': 2125}"
      ]
     },
     "execution_count": 167,
     "metadata": {},
     "output_type": "execute_result"
    }
   ],
   "source": [
    "dict2['DOB'] = 2125\n",
    "dict2['Address'] = 'Mumbai'\n",
    "dict2"
   ]
  },
  {
   "cell_type": "code",
   "execution_count": 168,
   "id": "968fed1c",
   "metadata": {},
   "outputs": [
    {
     "data": {
      "text/plain": [
       "{'Name': 'Dipali', 'Age': 23, 'Address': 'Mumbai', 'DOB': 2002}"
      ]
     },
     "execution_count": 168,
     "metadata": {},
     "output_type": "execute_result"
    }
   ],
   "source": [
    "dict3={'DOB': 2002}\n",
    "dict2.update(dict3)\n",
    "dict2"
   ]
  },
  {
   "cell_type": "code",
   "execution_count": 169,
   "id": "e2f0f772",
   "metadata": {},
   "outputs": [
    {
     "data": {
      "text/plain": [
       "{'Name': 'Dipali',\n",
       " 'Age': 23,\n",
       " 'Address': 'Mumbai',\n",
       " 'DOB': 2002,\n",
       " 'Job': 'Data Analyst'}"
      ]
     },
     "execution_count": 169,
     "metadata": {},
     "output_type": "execute_result"
    }
   ],
   "source": [
    "dict2['Job'] = 'Data Analyst'\n",
    "dict2"
   ]
  },
  {
   "cell_type": "code",
   "execution_count": 170,
   "id": "379ad11f",
   "metadata": {},
   "outputs": [
    {
     "data": {
      "text/plain": [
       "{'Name': 'Dipali', 'Age': 23, 'Address': 'Mumbai', 'DOB': 2002}"
      ]
     },
     "execution_count": 170,
     "metadata": {},
     "output_type": "execute_result"
    }
   ],
   "source": [
    "dict2.pop('Job')\n",
    "dict2"
   ]
  },
  {
   "cell_type": "code",
   "execution_count": 171,
   "id": "d3bc35e2",
   "metadata": {},
   "outputs": [
    {
     "data": {
      "text/plain": [
       "('DOB', 2002)"
      ]
     },
     "execution_count": 171,
     "metadata": {},
     "output_type": "execute_result"
    }
   ],
   "source": [
    "dict2.popitem()\n"
   ]
  },
  {
   "cell_type": "code",
   "execution_count": 172,
   "id": "269b5703",
   "metadata": {},
   "outputs": [
    {
     "data": {
      "text/plain": [
       "{'Name': 'Dipali', 'Age': 23, 'Address': 'Mumbai'}"
      ]
     },
     "execution_count": 172,
     "metadata": {},
     "output_type": "execute_result"
    }
   ],
   "source": [
    "dict2"
   ]
  },
  {
   "cell_type": "code",
   "execution_count": 173,
   "id": "2cc7dee2",
   "metadata": {},
   "outputs": [
    {
     "data": {
      "text/plain": [
       "{'Name': 'Dipali', 'Address': 'Mumbai'}"
      ]
     },
     "execution_count": 173,
     "metadata": {},
     "output_type": "execute_result"
    }
   ],
   "source": [
    "del[dict2['Age']]\n",
    "dict2"
   ]
  },
  {
   "cell_type": "code",
   "execution_count": 174,
   "id": "ec3418b7",
   "metadata": {},
   "outputs": [],
   "source": [
    "dict2.clear()\n"
   ]
  },
  {
   "cell_type": "code",
   "execution_count": 175,
   "id": "929c769f",
   "metadata": {},
   "outputs": [
    {
     "data": {
      "text/plain": [
       "{}"
      ]
     },
     "execution_count": 175,
     "metadata": {},
     "output_type": "execute_result"
    }
   ],
   "source": [
    "dict2"
   ]
  },
  {
   "cell_type": "code",
   "execution_count": 176,
   "id": "aebdd012",
   "metadata": {},
   "outputs": [
    {
     "ename": "NameError",
     "evalue": "name 'dict2' is not defined",
     "output_type": "error",
     "traceback": [
      "\u001b[1;31m---------------------------------------------------------------------------\u001b[0m",
      "\u001b[1;31mNameError\u001b[0m                                 Traceback (most recent call last)",
      "\u001b[1;32m~\\AppData\\Local\\Temp/ipykernel_30868/961484702.py\u001b[0m in \u001b[0;36m<module>\u001b[1;34m\u001b[0m\n\u001b[0;32m      1\u001b[0m \u001b[1;32mdel\u001b[0m \u001b[0mdict2\u001b[0m\u001b[1;33m\u001b[0m\u001b[1;33m\u001b[0m\u001b[0m\n\u001b[1;32m----> 2\u001b[1;33m \u001b[0mdict2\u001b[0m\u001b[1;33m\u001b[0m\u001b[1;33m\u001b[0m\u001b[0m\n\u001b[0m",
      "\u001b[1;31mNameError\u001b[0m: name 'dict2' is not defined"
     ]
    }
   ],
   "source": [
    "del dict2\n",
    "dict2"
   ]
  },
  {
   "cell_type": "code",
   "execution_count": 177,
   "id": "833b40e7",
   "metadata": {},
   "outputs": [
    {
     "data": {
      "text/plain": [
       "{'Name': 'Radha', 'Age': 26, 'Address': 'Mumbai', 'ID': 456987}"
      ]
     },
     "execution_count": 177,
     "metadata": {},
     "output_type": "execute_result"
    }
   ],
   "source": [
    "ndict= {'Name':'Radha', 'Age':26, 'Address': 'Mumbai', 'ID': 456987}\n",
    "ndict"
   ]
  },
  {
   "cell_type": "code",
   "execution_count": 180,
   "id": "7a34923a",
   "metadata": {},
   "outputs": [
    {
     "data": {
      "text/plain": [
       "{'Name': 'Radha', 'Age': 26, 'Address': 'Mumbai', 'ID': 456987}"
      ]
     },
     "execution_count": 180,
     "metadata": {},
     "output_type": "execute_result"
    }
   ],
   "source": [
    "ndict4 = ndict\n",
    "ndict4"
   ]
  },
  {
   "cell_type": "markdown",
   "id": "f5185cc7",
   "metadata": {},
   "source": [
    "Loop through Dictionary"
   ]
  },
  {
   "cell_type": "code",
   "execution_count": 181,
   "id": "4f5cfb0c",
   "metadata": {},
   "outputs": [
    {
     "name": "stdout",
     "output_type": "stream",
     "text": [
      "Name : Radha\n",
      "Age : 26\n",
      "Address : Mumbai\n",
      "ID : 456987\n"
     ]
    }
   ],
   "source": [
    "for i in ndict4:\n",
    "    print(i, ':', ndict[i])"
   ]
  },
  {
   "cell_type": "code",
   "execution_count": 182,
   "id": "1236f1f3",
   "metadata": {},
   "outputs": [
    {
     "name": "stdout",
     "output_type": "stream",
     "text": [
      "Name\n",
      "Age\n",
      "Address\n",
      "ID\n"
     ]
    }
   ],
   "source": [
    "for i in ndict4:\n",
    "    print(i)"
   ]
  },
  {
   "cell_type": "markdown",
   "id": "2644e6de",
   "metadata": {},
   "source": [
    "Dictionary Membership- applicable only for keys not for values"
   ]
  },
  {
   "cell_type": "code",
   "execution_count": 183,
   "id": "5e5bda96",
   "metadata": {},
   "outputs": [
    {
     "data": {
      "text/plain": [
       "True"
      ]
     },
     "execution_count": 183,
     "metadata": {},
     "output_type": "execute_result"
    }
   ],
   "source": [
    "'Name' in ndict4"
   ]
  },
  {
   "cell_type": "code",
   "execution_count": 184,
   "id": "3008c1f4",
   "metadata": {},
   "outputs": [
    {
     "data": {
      "text/plain": [
       "False"
      ]
     },
     "execution_count": 184,
     "metadata": {},
     "output_type": "execute_result"
    }
   ],
   "source": [
    "'Dipali' in ndict4"
   ]
  },
  {
   "cell_type": "code",
   "execution_count": 185,
   "id": "6429d736",
   "metadata": {},
   "outputs": [
    {
     "data": {
      "text/plain": [
       "True"
      ]
     },
     "execution_count": 185,
     "metadata": {},
     "output_type": "execute_result"
    }
   ],
   "source": [
    "all(ndict4)"
   ]
  },
  {
   "cell_type": "code",
   "execution_count": 186,
   "id": "f90d98d4",
   "metadata": {},
   "outputs": [
    {
     "data": {
      "text/plain": [
       "True"
      ]
     },
     "execution_count": 186,
     "metadata": {},
     "output_type": "execute_result"
    }
   ],
   "source": [
    "any(ndict4)"
   ]
  },
  {
   "cell_type": "markdown",
   "id": "e2851b67",
   "metadata": {},
   "source": [
    "Dictionary Comprehension \n",
    "- {key:value for var in iterable} "
   ]
  },
  {
   "cell_type": "code",
   "execution_count": 188,
   "id": "fb161b05",
   "metadata": {},
   "outputs": [
    {
     "data": {
      "text/plain": [
       "{0: 0, 1: 1, 2: 4, 3: 9, 4: 16, 5: 25, 6: 36, 7: 49, 8: 64, 9: 81}"
      ]
     },
     "execution_count": 188,
     "metadata": {},
     "output_type": "execute_result"
    }
   ],
   "source": [
    "square = {i:i**2 for i in range(10)}\n",
    "square"
   ]
  },
  {
   "cell_type": "code",
   "execution_count": 189,
   "id": "680db682",
   "metadata": {
    "scrolled": true
   },
   "outputs": [
    {
     "data": {
      "text/plain": [
       "{1: 'one', 2: 'two', 3: 'three', 4: 'four', 5: 'five'}"
      ]
     },
     "execution_count": 189,
     "metadata": {},
     "output_type": "execute_result"
    }
   ],
   "source": [
    "key = [1,2,3,4,5]\n",
    "value = ['one' , 'two' , 'three' , 'four' , 'five']\n",
    "\n",
    "mydict = {k:v for (k,v) in zip(key,value)} # using dict comprehension to create d\n",
    "mydict"
   ]
  },
  {
   "cell_type": "markdown",
   "id": "113972d3",
   "metadata": {},
   "source": [
    "# Operators"
   ]
  },
  {
   "cell_type": "markdown",
   "id": "e6455a70",
   "metadata": {},
   "source": [
    "Sure, here's a more human-friendly explanation of Python operators:\n",
    "\n",
    "1. **Arithmetic Operators**: These are like the ones you use in math class.\n",
    "   - `+` (Addition)\n",
    "   - `-` (Subtraction)\n",
    "   - `*` (Multiplication)\n",
    "   - `/` (Division)\n",
    "   - `%` (Modulus - gives the remainder of a division)\n",
    "   - `**` (Exponentiation - raising a number to a power)\n",
    "   - `//` (Floor Division - division that rounds down to the nearest integer)\n",
    "\n",
    "2. **Comparison Operators**: These help you compare values.\n",
    "   - `==` (Equal to)\n",
    "   - `!=` (Not equal to)\n",
    "   - `<` (Less than)\n",
    "   - `>` (Greater than)\n",
    "   - `<=` (Less than or equal to)\n",
    "   - `>=` (Greater than or equal to)\n",
    "\n",
    "3. **Assignment Operators**: These are shortcuts for assigning values to variables.\n",
    "   - `=` (Assign)\n",
    "   - `+=` (Add and assign)\n",
    "   - `-=` (Subtract and assign)\n",
    "   - `*=` (Multiply and assign)\n",
    "   - `/=` (Divide and assign)\n",
    "   - `%=` (Modulus and assign)\n",
    "   - `**=` (Exponentiate and assign)\n",
    "   - `//=` (Floor divide and assign)\n",
    "\n",
    "4. **Logical Operators**: These help you combine conditions.\n",
    "   - `and` (Both conditions must be True)\n",
    "   - `or` (At least one condition must be True)\n",
    "   - `not` (Negates the condition, True becomes False, and vice versa)\n",
    "\n",
    "5. **Bitwise Operators**: These work with binary numbers on a bit level.\n",
    "   - `&` (Bitwise AND)\n",
    "   - `|` (Bitwise OR)\n",
    "   - `^` (Bitwise XOR)\n",
    "   - `~` (Bitwise NOT)\n",
    "   - `<<` (Left shift)\n",
    "   - `>>` (Right shift)\n",
    "\n",
    "6. **Identity Operators**: These help you check if two variables point to the same object.\n",
    "   - `is` (True if both variables point to the same object)\n",
    "   - `is not` (True if both variables point to different objects)\n",
    "\n",
    "7. **Membership Operators**: These help you check if a value is present in a sequence.\n",
    "   - `in` (True if a value is present in a sequence)\n",
    "   - `not in` (True if a value is not present in a sequence)\n",
    "\n",
    "8. **Unary Operators**: These work on a single operand.\n",
    "   - `-` (Negation)\n",
    "   - `+` (Unary plus)\n",
    "   - `~` (Bitwise negation)\n",
    "\n",
    "These operators are fundamental tools for writing code in Python."
   ]
  },
  {
   "cell_type": "code",
   "execution_count": 192,
   "id": "99b611f7",
   "metadata": {},
   "outputs": [
    {
     "name": "stdout",
     "output_type": "stream",
     "text": [
      "Addition of 10 and 5 will give :- 15\n",
      "\n"
     ]
    }
   ],
   "source": [
    "a = 10\n",
    "b = 5\n",
    "x = 'Vrushabh'\n",
    "y = 'Butle'\n",
    "# Addition\n",
    "c = a + b\n",
    "print('Addition of {} and {} will give :- {}\\n'.format(a,b,c))\n",
    "#Concatenate string using plus operator\n"
   ]
  },
  {
   "cell_type": "code",
   "execution_count": 198,
   "id": "de2a6b34",
   "metadata": {},
   "outputs": [
    {
     "name": "stdout",
     "output_type": "stream",
     "text": [
      "Concatenate string 'x' and 'y' using '+' operaotr :- VrushabhButle\n",
      "\n"
     ]
    }
   ],
   "source": [
    "z = x+y\n",
    "print ('Concatenate string \\'x\\' and \\'y\\' using \\'+\\' operaotr :- {}\\n'.format(z))\n"
   ]
  },
  {
   "cell_type": "code",
   "execution_count": 199,
   "id": "374f3add",
   "metadata": {},
   "outputs": [
    {
     "name": "stdout",
     "output_type": "stream",
     "text": [
      "Subtracting 5 from 10 will give :- 5\n",
      "\n",
      "Multiplying 10 and 5 will give :- 50\n",
      "\n",
      "Dividing 10 by 5 will give :- 2.0\n",
      "\n",
      "Modulo of 10 , 5 will give :- 0\n",
      "\n",
      "10 raised to the power 5 will give :- 100000\n",
      "\n",
      "Floor division of 10 by 5 will give :- 2\n",
      "\n"
     ]
    }
   ],
   "source": [
    " \n",
    "# Subtraction\n",
    "c = a - b\n",
    "print('Subtracting {} from {} will give :- {}\\n'.format(b,a,c))\n",
    " \n",
    "# Multiplication\n",
    "c = a * b \n",
    "print('Multiplying {} and {} will give :- {}\\n'.format(a,b,c))\n",
    " \n",
    "# Division\n",
    "c = a / b\n",
    "print('Dividing {} by {} will give :- {}\\n'.format(a,b,c))\n",
    " \n",
    "# Modulo of both number \n",
    "c = a % b\n",
    "print('Modulo of {} , {} will give :- {}\\n'.format(a,b,c))\n",
    " \n",
    "# Power \n",
    "c = a ** b\n",
    "print('{} raised to the power {} will give :- {}\\n'.format(a,b,c))\n",
    "# Division(floor)\n",
    "c = a // b\n",
    "print('Floor division of {} by {} will give :- {}\\n'.format(a,b,c))"
   ]
  },
  {
   "cell_type": "markdown",
   "id": "5fb98467",
   "metadata": {},
   "source": [
    "# Comparison Operators"
   ]
  },
  {
   "cell_type": "code",
   "execution_count": 200,
   "id": "0f187f16",
   "metadata": {},
   "outputs": [],
   "source": [
    "x=50\n",
    "y=32"
   ]
  },
  {
   "cell_type": "code",
   "execution_count": 202,
   "id": "e2070c57",
   "metadata": {},
   "outputs": [
    {
     "data": {
      "text/plain": [
       "True"
      ]
     },
     "execution_count": 202,
     "metadata": {},
     "output_type": "execute_result"
    }
   ],
   "source": [
    "x>y"
   ]
  },
  {
   "cell_type": "code",
   "execution_count": 203,
   "id": "1f91eb52",
   "metadata": {},
   "outputs": [
    {
     "data": {
      "text/plain": [
       "False"
      ]
     },
     "execution_count": 203,
     "metadata": {},
     "output_type": "execute_result"
    }
   ],
   "source": [
    "x<y"
   ]
  },
  {
   "cell_type": "code",
   "execution_count": 204,
   "id": "21c8c18b",
   "metadata": {},
   "outputs": [
    {
     "data": {
      "text/plain": [
       "False"
      ]
     },
     "execution_count": 204,
     "metadata": {},
     "output_type": "execute_result"
    }
   ],
   "source": [
    "x==y"
   ]
  },
  {
   "cell_type": "code",
   "execution_count": 205,
   "id": "3f56c76d",
   "metadata": {},
   "outputs": [
    {
     "data": {
      "text/plain": [
       "True"
      ]
     },
     "execution_count": 205,
     "metadata": {},
     "output_type": "execute_result"
    }
   ],
   "source": [
    "x!=y"
   ]
  },
  {
   "cell_type": "code",
   "execution_count": 206,
   "id": "4c9b4f38",
   "metadata": {},
   "outputs": [
    {
     "data": {
      "text/plain": [
       "True"
      ]
     },
     "execution_count": 206,
     "metadata": {},
     "output_type": "execute_result"
    }
   ],
   "source": [
    "x>=y"
   ]
  },
  {
   "cell_type": "code",
   "execution_count": 207,
   "id": "22d234e6",
   "metadata": {},
   "outputs": [
    {
     "data": {
      "text/plain": [
       "False"
      ]
     },
     "execution_count": 207,
     "metadata": {},
     "output_type": "execute_result"
    }
   ],
   "source": [
    "y>=x"
   ]
  },
  {
   "cell_type": "markdown",
   "id": "d5b73a3c",
   "metadata": {},
   "source": [
    "# Logical Operators"
   ]
  },
  {
   "cell_type": "code",
   "execution_count": 208,
   "id": "beac7449",
   "metadata": {},
   "outputs": [
    {
     "name": "stdout",
     "output_type": "stream",
     "text": [
      "Logical AND operation :-  False\n",
      "Logical OR operation :-  True\n",
      "NOT operation :-  False\n"
     ]
    }
   ],
   "source": [
    "x = True\n",
    "y = False\n",
    "print('Logical AND operation :- ',x and y) # True if both values are true\n",
    "print('Logical OR operation :- ',x or y) # True if either of the values is true\n",
    "print('NOT operation :- ',not x ) # True if operand is false"
   ]
  },
  {
   "cell_type": "markdown",
   "id": "cbd193cc",
   "metadata": {},
   "source": [
    "# Bitwise operators"
   ]
  },
  {
   "cell_type": "code",
   "execution_count": 209,
   "id": "337cff14",
   "metadata": {},
   "outputs": [
    {
     "name": "stdout",
     "output_type": "stream",
     "text": [
      "Bitwise AND operation - 8\n",
      "Bitwise OR operation - 14\n",
      "Bitwise XOR operation - 6\n",
      "Bitwise NOT operation - -15\n",
      "Bitwise right shift operation - 3\n",
      "Bitwise left shift operation - 56\n"
     ]
    }
   ],
   "source": [
    "x = 14 # binary form 10010\n",
    "y = 8 # binary form 00110\n",
    "print('Bitwise AND operation - {}'.format(x&y))\n",
    "print('Bitwise OR operation - {}'.format(x|y))\n",
    "print('Bitwise XOR operation - {}'.format(x^y))\n",
    "print('Bitwise NOT operation - {}'.format(~x))\n",
    "print('Bitwise right shift operation - {}'.format(x>>2))\n",
    "print('Bitwise left shift operation - {}'.format(x<<2))"
   ]
  },
  {
   "cell_type": "markdown",
   "id": "0356468d",
   "metadata": {},
   "source": [
    "# Assignment Operators"
   ]
  },
  {
   "cell_type": "code",
   "execution_count": 216,
   "id": "67052198",
   "metadata": {},
   "outputs": [],
   "source": [
    "x=20"
   ]
  },
  {
   "cell_type": "code",
   "execution_count": 217,
   "id": "88e5b5dd",
   "metadata": {},
   "outputs": [
    {
     "data": {
      "text/plain": [
       "40"
      ]
     },
     "execution_count": 217,
     "metadata": {},
     "output_type": "execute_result"
    }
   ],
   "source": [
    "x+=20\n",
    "x"
   ]
  },
  {
   "cell_type": "code",
   "execution_count": 218,
   "id": "93f60f25",
   "metadata": {},
   "outputs": [
    {
     "data": {
      "text/plain": [
       "20"
      ]
     },
     "execution_count": 218,
     "metadata": {},
     "output_type": "execute_result"
    }
   ],
   "source": [
    "x-=20\n",
    "x"
   ]
  },
  {
   "cell_type": "code",
   "execution_count": 219,
   "id": "53b8ee82",
   "metadata": {},
   "outputs": [
    {
     "data": {
      "text/plain": [
       "1.0"
      ]
     },
     "execution_count": 219,
     "metadata": {},
     "output_type": "execute_result"
    }
   ],
   "source": [
    "x/=20\n",
    "x"
   ]
  },
  {
   "cell_type": "code",
   "execution_count": 220,
   "id": "44b71002",
   "metadata": {},
   "outputs": [
    {
     "data": {
      "text/plain": [
       "20.0"
      ]
     },
     "execution_count": 220,
     "metadata": {},
     "output_type": "execute_result"
    }
   ],
   "source": [
    "x*=20\n",
    "x"
   ]
  },
  {
   "cell_type": "code",
   "execution_count": 221,
   "id": "5134b4be",
   "metadata": {},
   "outputs": [
    {
     "data": {
      "text/plain": [
       "1.048576e+26"
      ]
     },
     "execution_count": 221,
     "metadata": {},
     "output_type": "execute_result"
    }
   ],
   "source": [
    "x**=20\n",
    "x"
   ]
  },
  {
   "cell_type": "code",
   "execution_count": 222,
   "id": "024733e3",
   "metadata": {},
   "outputs": [],
   "source": [
    "x%=20"
   ]
  },
  {
   "cell_type": "code",
   "execution_count": 223,
   "id": "fd9155ec",
   "metadata": {},
   "outputs": [
    {
     "data": {
      "text/plain": [
       "0.0"
      ]
     },
     "execution_count": 223,
     "metadata": {},
     "output_type": "execute_result"
    }
   ],
   "source": [
    "x"
   ]
  },
  {
   "cell_type": "code",
   "execution_count": 224,
   "id": "cd9f2be5",
   "metadata": {},
   "outputs": [
    {
     "data": {
      "text/plain": [
       "20"
      ]
     },
     "execution_count": 224,
     "metadata": {},
     "output_type": "execute_result"
    }
   ],
   "source": [
    "x=20\n",
    "x//20\n",
    "x"
   ]
  },
  {
   "cell_type": "code",
   "execution_count": 225,
   "id": "bc58cac9",
   "metadata": {},
   "outputs": [
    {
     "data": {
      "text/plain": [
       "6"
      ]
     },
     "execution_count": 225,
     "metadata": {},
     "output_type": "execute_result"
    }
   ],
   "source": [
    "x//=3\n",
    "x"
   ]
  },
  {
   "cell_type": "code",
   "execution_count": 226,
   "id": "ba074cc0",
   "metadata": {},
   "outputs": [],
   "source": [
    "x&=2"
   ]
  },
  {
   "cell_type": "code",
   "execution_count": 227,
   "id": "be715a34",
   "metadata": {},
   "outputs": [
    {
     "data": {
      "text/plain": [
       "2"
      ]
     },
     "execution_count": 227,
     "metadata": {},
     "output_type": "execute_result"
    }
   ],
   "source": [
    "x"
   ]
  },
  {
   "cell_type": "code",
   "execution_count": 228,
   "id": "31554b8c",
   "metadata": {},
   "outputs": [],
   "source": [
    "x|=2"
   ]
  },
  {
   "cell_type": "code",
   "execution_count": 229,
   "id": "6eb1887a",
   "metadata": {},
   "outputs": [
    {
     "data": {
      "text/plain": [
       "2"
      ]
     },
     "execution_count": 229,
     "metadata": {},
     "output_type": "execute_result"
    }
   ],
   "source": [
    "x"
   ]
  },
  {
   "cell_type": "code",
   "execution_count": 230,
   "id": "eebf1d26",
   "metadata": {},
   "outputs": [
    {
     "data": {
      "text/plain": [
       "0"
      ]
     },
     "execution_count": 230,
     "metadata": {},
     "output_type": "execute_result"
    }
   ],
   "source": [
    "x^=2\n",
    "x"
   ]
  },
  {
   "cell_type": "code",
   "execution_count": 232,
   "id": "c773a692",
   "metadata": {},
   "outputs": [
    {
     "data": {
      "text/plain": [
       "0"
      ]
     },
     "execution_count": 232,
     "metadata": {},
     "output_type": "execute_result"
    }
   ],
   "source": [
    "x<<=2\n",
    "x"
   ]
  },
  {
   "cell_type": "code",
   "execution_count": 234,
   "id": "84ade6e3",
   "metadata": {},
   "outputs": [
    {
     "data": {
      "text/plain": [
       "2"
      ]
     },
     "execution_count": 234,
     "metadata": {},
     "output_type": "execute_result"
    }
   ],
   "source": [
    "x<<=2\n",
    "2"
   ]
  },
  {
   "cell_type": "markdown",
   "id": "602e289f",
   "metadata": {},
   "source": [
    "# Membership Operators"
   ]
  },
  {
   "cell_type": "code",
   "execution_count": 235,
   "id": "fa34f345",
   "metadata": {},
   "outputs": [
    {
     "data": {
      "text/plain": [
       "(True, False)"
      ]
     },
     "execution_count": 235,
     "metadata": {},
     "output_type": "execute_result"
    }
   ],
   "source": [
    "string =' Good morning India'\n",
    "'India' in string, 'Hello' in string"
   ]
  },
  {
   "cell_type": "markdown",
   "id": "bf4c843c",
   "metadata": {},
   "source": [
    "# Functions \n",
    "-  functions are blocks of code that perform a specific task. They allow you to organize your code into reusable chunks, making it easier to manage and maintain. \n",
    "- "
   ]
  },
  {
   "cell_type": "markdown",
   "id": "809d098d",
   "metadata": {},
   "source": [
    "Defining a Function:\n",
    "- You can define a function using the def keyword followed by the function name and parentheses containing any parameters the function takes. The function body is indented below the definition."
   ]
  },
  {
   "cell_type": "code",
   "execution_count": 237,
   "id": "45031160",
   "metadata": {},
   "outputs": [],
   "source": [
    "def greet(name):\n",
    "    print(\"Hello,\", name)\n"
   ]
  },
  {
   "cell_type": "markdown",
   "id": "6c1944cc",
   "metadata": {},
   "source": [
    "Calling a Function:\n",
    "- To execute a function, you simply call it by its name and provide any necessary arguments within parentheses."
   ]
  },
  {
   "cell_type": "code",
   "execution_count": 239,
   "id": "fddc9e98",
   "metadata": {},
   "outputs": [
    {
     "name": "stdout",
     "output_type": "stream",
     "text": [
      "Hello, Alice\n"
     ]
    }
   ],
   "source": [
    "greet(\"Alice\")  # Output: Hello, Alice\n"
   ]
  },
  {
   "cell_type": "markdown",
   "id": "e47a7834",
   "metadata": {},
   "source": [
    "Returning Values:\n",
    "- Functions can return values using the return statement. This allows you to send data back to the caller."
   ]
  },
  {
   "cell_type": "code",
   "execution_count": 240,
   "id": "4bd4bd84",
   "metadata": {},
   "outputs": [
    {
     "name": "stdout",
     "output_type": "stream",
     "text": [
      "7\n"
     ]
    }
   ],
   "source": [
    "def add(a, b):\n",
    "    return a + b\n",
    "\n",
    "result = add(3, 4)\n",
    "print(result)  # Output: 7\n"
   ]
  },
  {
   "cell_type": "markdown",
   "id": "6290582c",
   "metadata": {},
   "source": [
    "Default Arguments:\n",
    "- You can provide default values for function parameters. If the caller doesn't provide a value, the default will be used."
   ]
  },
  {
   "cell_type": "code",
   "execution_count": 241,
   "id": "9c9e7249",
   "metadata": {},
   "outputs": [
    {
     "name": "stdout",
     "output_type": "stream",
     "text": [
      "Hello, World\n",
      "Hello, Alice\n"
     ]
    }
   ],
   "source": [
    "def greet(name=\"World\"):\n",
    "    print(\"Hello,\", name)\n",
    "\n",
    "greet()  # Output: Hello, World\n",
    "greet(\"Alice\")  # Output: Hello, Alice\n"
   ]
  },
  {
   "cell_type": "markdown",
   "id": "398b9707",
   "metadata": {},
   "source": [
    "Variable Number of Arguments:\n",
    "- You can define functions that accept a variable number of arguments using *args (for positional arguments) or **kwargs (for keyword arguments)."
   ]
  },
  {
   "cell_type": "code",
   "execution_count": 243,
   "id": "03d1a97a",
   "metadata": {},
   "outputs": [
    {
     "name": "stdout",
     "output_type": "stream",
     "text": [
      "24\n"
     ]
    }
   ],
   "source": [
    "def multiply(*args):\n",
    "    result = 1\n",
    "    for num in args:\n",
    "        result *= num\n",
    "    return result\n",
    "\n",
    "print(multiply(2, 3, 4))  # Output: 24\n"
   ]
  },
  {
   "cell_type": "markdown",
   "id": "945fdb4d",
   "metadata": {},
   "source": [
    "Lambda Functions:\n",
    "- Lambda functions are small anonymous functions defined using the lambda keyword. They can have any number of arguments but only one expression."
   ]
  },
  {
   "cell_type": "code",
   "execution_count": 245,
   "id": "afa26054",
   "metadata": {},
   "outputs": [
    {
     "name": "stdout",
     "output_type": "stream",
     "text": [
      "10\n"
     ]
    }
   ],
   "source": [
    "double = lambda x: x * 2\n",
    "print(double(5))  # Output: 10\n"
   ]
  },
  {
   "cell_type": "markdown",
   "id": "482f4c34",
   "metadata": {},
   "source": [
    "Scope:\n",
    "- Variables defined inside a function are scoped to that function and are not accessible from outside unless explicitly returned."
   ]
  },
  {
   "cell_type": "markdown",
   "id": "4b9fe879",
   "metadata": {},
   "source": [
    "Recursion:\n",
    "- Functions can call themselves recursively."
   ]
  },
  {
   "cell_type": "code",
   "execution_count": 246,
   "id": "dd76dd70",
   "metadata": {},
   "outputs": [
    {
     "name": "stdout",
     "output_type": "stream",
     "text": [
      "120\n"
     ]
    }
   ],
   "source": [
    "def factorial(n):\n",
    "    if n == 0:\n",
    "        return 1\n",
    "    return n * factorial(n-1)\n",
    "\n",
    "print(factorial(5))  # Output: 120\n"
   ]
  },
  {
   "cell_type": "markdown",
   "id": "fd538b0a",
   "metadata": {},
   "source": [
    "Parameter:\n",
    "- A parameter is a variable in a function definition.\n",
    "- It is a placeholder for the actual value (argument) that will be passed to the function when it is called.\n",
    "- Parameters are specified in the function header.\n",
    "- Parameters are variables that are part of the function signature and are used to define the input requirements of the function.\n",
    "- They act as local variables within the function's scope."
   ]
  },
  {
   "cell_type": "code",
   "execution_count": 248,
   "id": "6999439d",
   "metadata": {},
   "outputs": [],
   "source": [
    "def greet(name):  # 'name' is a parameter\n",
    "    print(\"Hello,\", name)\n"
   ]
  },
  {
   "cell_type": "markdown",
   "id": "4f17b293",
   "metadata": {},
   "source": [
    "Argument\n",
    "- An argument is a value that is passed to a function when it is called.\n",
    "- It is the actual data or values that are provided to the function when it is invoked.\n",
    "- Arguments are passed inside the parentheses when calling a function.\n",
    "- They can be literals, variables, expressions, or even the result of other function calls.\n",
    "-Arguments are the concrete values that are supplied to the function for computation.\n"
   ]
  },
  {
   "cell_type": "code",
   "execution_count": 250,
   "id": "0217abe4",
   "metadata": {},
   "outputs": [
    {
     "name": "stdout",
     "output_type": "stream",
     "text": [
      "Hello, Alice\n"
     ]
    }
   ],
   "source": [
    "greet(\"Alice\")  # \"Alice\" is an argument passed to the 'greet' function\n"
   ]
  },
  {
   "cell_type": "markdown",
   "id": "965ac88a",
   "metadata": {},
   "source": [
    "1. Built-in Functions:\n",
    "These are functions that are built into the Python interpreter and are readily available for use without the need for importing any module. Examples include print(), len(), type(), range(), sum(), etc."
   ]
  },
  {
   "cell_type": "code",
   "execution_count": 252,
   "id": "e3ce4e51",
   "metadata": {},
   "outputs": [
    {
     "name": "stdout",
     "output_type": "stream",
     "text": [
      "Hello, World!\n"
     ]
    },
    {
     "data": {
      "text/plain": [
       "5"
      ]
     },
     "execution_count": 252,
     "metadata": {},
     "output_type": "execute_result"
    }
   ],
   "source": [
    "print(\"Hello, World!\")\n",
    "length = len([1, 2, 3, 4, 5])\n",
    "length"
   ]
  },
  {
   "cell_type": "markdown",
   "id": "4d99be66",
   "metadata": {},
   "source": [
    "2. User-defined Functions:\n",
    "These are functions defined by the user to perform a specific task. They provide modularity and reusability to the codebase."
   ]
  },
  {
   "cell_type": "code",
   "execution_count": 253,
   "id": "e237ff8d",
   "metadata": {},
   "outputs": [],
   "source": [
    "def add(a, b):\n",
    "    return a + b\n",
    "\n",
    "result = add(3, 4)\n"
   ]
  },
  {
   "cell_type": "markdown",
   "id": "abd070d1",
   "metadata": {},
   "source": [
    "3. Anonymous Functions (Lambda Functions):\n",
    "Lambda functions are small, anonymous functions defined using the lambda keyword. They are typically used for short operations where defining a full function is unnecessary."
   ]
  },
  {
   "cell_type": "code",
   "execution_count": 255,
   "id": "2cffdb04",
   "metadata": {},
   "outputs": [
    {
     "data": {
      "text/plain": [
       "10"
      ]
     },
     "execution_count": 255,
     "metadata": {},
     "output_type": "execute_result"
    }
   ],
   "source": [
    "double = lambda x: x * 2\n",
    "result = double(5)\n",
    "result\n"
   ]
  },
  {
   "cell_type": "code",
   "execution_count": 257,
   "id": "fd4bacb7",
   "metadata": {},
   "outputs": [
    {
     "data": {
      "text/plain": [
       "120"
      ]
     },
     "execution_count": 257,
     "metadata": {},
     "output_type": "execute_result"
    }
   ],
   "source": [
    "def factorial(n):\n",
    "    if n == 0:\n",
    "        return 1\n",
    "    return n * factorial(n-1)\n",
    "\n",
    "result = factorial(5)\n",
    "result"
   ]
  },
  {
   "cell_type": "code",
   "execution_count": 258,
   "id": "c15ab0d1",
   "metadata": {},
   "outputs": [
    {
     "data": {
      "text/plain": [
       "100"
      ]
     },
     "execution_count": 258,
     "metadata": {},
     "output_type": "execute_result"
    }
   ],
   "source": [
    "def square (n): #function to find square of a number\n",
    " n= n*n\n",
    " return n\n",
    "square (10)"
   ]
  },
  {
   "cell_type": "code",
   "execution_count": 261,
   "id": "85eb62f5",
   "metadata": {},
   "outputs": [
    {
     "name": "stdout",
     "output_type": "stream",
     "text": [
      "3  is odd number\n",
      "4  is even number\n",
      " This function will check whether a number is even or odd\n"
     ]
    }
   ],
   "source": [
    "def even_odd (num): #Even odd test\n",
    " \"\"\" This function will check whether a number is even or odd\"\"\"\n",
    " if num % 2 ==0:\n",
    "   print (num, ' is even number')\n",
    " else:\n",
    "    print (num, ' is odd number')\n",
    "even_odd(3)\n",
    "even_odd(4)\n",
    "print(even_odd.__doc__) # Print function documentation string"
   ]
  },
  {
   "cell_type": "code",
   "execution_count": 262,
   "id": "62bc6fe2",
   "metadata": {},
   "outputs": [
    {
     "name": "stdout",
     "output_type": "stream",
     "text": [
      "99\n",
      "100\n"
     ]
    }
   ],
   "source": [
    "var1 = 100 # Variable with Global scope.\n",
    "def myfunc():\n",
    " var1 = 99 # Local scope\n",
    " print(var1)\n",
    " \n",
    "myfunc() \n",
    "print(var1)"
   ]
  },
  {
   "cell_type": "code",
   "execution_count": 263,
   "id": "b6e68b81",
   "metadata": {},
   "outputs": [
    {
     "data": {
      "text/plain": [
       "(10, 20)"
      ]
     },
     "execution_count": 263,
     "metadata": {},
     "output_type": "execute_result"
    }
   ],
   "source": [
    "def swap(a,b):\n",
    " temp = a\n",
    " a = b # link of 'a' with previous object is broken now as new object is \n",
    " b = temp # link of 'b' with previous object is broken now as new object is \n",
    "a = 10\n",
    "b = 20\n",
    "swap(a,b)\n",
    "a,b"
   ]
  },
  {
   "cell_type": "code",
   "execution_count": 264,
   "id": "6891fbe9",
   "metadata": {},
   "outputs": [
    {
     "data": {
      "text/plain": [
       "24"
      ]
     },
     "execution_count": 264,
     "metadata": {},
     "output_type": "execute_result"
    }
   ],
   "source": [
    "def factorial(num):\n",
    "  if num <=1 :\n",
    "   return 1\n",
    "  else:\n",
    "   return num * factorial(num-1)\n",
    " \n",
    "factorial(4)"
   ]
  },
  {
   "cell_type": "code",
   "execution_count": 265,
   "id": "31f8be70",
   "metadata": {},
   "outputs": [
    {
     "name": "stdout",
     "output_type": "stream",
     "text": [
      "How many fibonacci numbers you want to generate -10\n",
      "0\n",
      "1\n",
      "1\n",
      "2\n",
      "3\n",
      "5\n",
      "8\n",
      "13\n",
      "21\n",
      "34\n"
     ]
    }
   ],
   "source": [
    "def fiboacci(num):\n",
    "  if num <= 1:\n",
    "   return num\n",
    "  if num == 2:\n",
    "   return 1\n",
    "  else: \n",
    "   return(fiboacci(num-1) + fiboacci(num-2)) \n",
    "nums = int(input(\"How many fibonacci numbers you want to generate -\"))\n",
    "for i in range(nums):\n",
    " print(fiboacci(i)) # Generate Fibonacci series"
   ]
  },
  {
   "cell_type": "markdown",
   "id": "cf912249",
   "metadata": {},
   "source": [
    "In Python, *args and **kwargs allow you to pass a variable number of arguments to a function. They are commonly used when you are unsure about the number of arguments that will be passed to a function or when you want to provide a flexible interface for calling the function.\n",
    "\n",
    "- *args (Arbitrary Arguments):\n",
    "- *args is used to pass a variable number of positional arguments to a function.\n",
    "- The *args parameter collects all the positional arguments into a tuple within the function.\n",
    "- You can name *args anything you like, but it is a convention to use args.\n",
    "- It allows a function to accept any number of positional arguments.\n",
    "- Example:\n",
    "\n"
   ]
  },
  {
   "cell_type": "code",
   "execution_count": 267,
   "id": "67af7da4",
   "metadata": {},
   "outputs": [
    {
     "name": "stdout",
     "output_type": "stream",
     "text": [
      "Hello World\n"
     ]
    }
   ],
   "source": [
    "def concatenate(*args):\n",
    "    result = \"\"\n",
    "    for arg in args:\n",
    "        result += arg\n",
    "    return result\n",
    "\n",
    "print(concatenate(\"Hello\", \" \", \"World\"))  # Output: \"Hello World\"\n"
   ]
  },
  {
   "cell_type": "markdown",
   "id": "91938735",
   "metadata": {},
   "source": [
    "**kwargs (Arbitrary Keyword Arguments):\n",
    "- **kwargs is used to pass a variable number of keyword arguments to a function.\n",
    "- The **kwargs parameter collects all the keyword arguments into a dictionary within the function.\n",
    "- You can name **kwargs anything you like, but it is a convention to use kwargs.\n",
    "- It allows a function to accept any number of keyword arguments."
   ]
  },
  {
   "cell_type": "code",
   "execution_count": 268,
   "id": "fa07927b",
   "metadata": {},
   "outputs": [
    {
     "name": "stdout",
     "output_type": "stream",
     "text": [
      "name: Alice\n",
      "age: 30\n",
      "city: Wonderland\n"
     ]
    }
   ],
   "source": [
    "def display_info(**kwargs):\n",
    "    for key, value in kwargs.items():\n",
    "        print(f\"{key}: {value}\")\n",
    "\n",
    "display_info(name=\"Alice\", age=30, city=\"Wonderland\")\n",
    "# Output:\n",
    "# name: Alice\n",
    "# age: 30\n",
    "# city: Wonderland\n"
   ]
  },
  {
   "cell_type": "markdown",
   "id": "b099bcd2",
   "metadata": {},
   "source": [
    "Using both *args and **kwargs together:\n",
    "- You can use both *args and **kwargs in the same function definition. In this case, *args should appear before **kwargs.\n",
    "\n",
    "- Example:"
   ]
  },
  {
   "cell_type": "code",
   "execution_count": 270,
   "id": "aa14f9f5",
   "metadata": {},
   "outputs": [
    {
     "name": "stdout",
     "output_type": "stream",
     "text": [
      "Positional arguments:\n",
      "1\n",
      "2\n",
      "3\n",
      "\n",
      "Keyword arguments:\n",
      "name: Alice\n",
      "age: 30\n"
     ]
    }
   ],
   "source": [
    "def example_function(*args, **kwargs):\n",
    "    print(\"Positional arguments:\")\n",
    "    for arg in args:\n",
    "        print(arg)\n",
    "    print(\"\\nKeyword arguments:\")\n",
    "    for key, value in kwargs.items():\n",
    "        print(f\"{key}: {value}\")\n",
    "\n",
    "example_function(1, 2, 3, name=\"Alice\", age=30)\n",
    "# Output:\n",
    "# Positional arguments:\n",
    "# 1\n",
    "# 2\n",
    "# 3\n",
    "#\n",
    "# Keyword arguments:\n",
    "# name: Alice\n",
    "# age: 30\n"
   ]
  },
  {
   "cell_type": "markdown",
   "id": "76c71fa8",
   "metadata": {},
   "source": [
    "Using *args and **kwargs allows functions to be more flexible and versatile, accommodating various calling patterns and simplifying the interface for functions that accept a variable number of arguments."
   ]
  },
  {
   "cell_type": "code",
   "execution_count": 271,
   "id": "21120209",
   "metadata": {},
   "outputs": [
    {
     "name": "stdout",
     "output_type": "stream",
     "text": [
      "60\n"
     ]
    }
   ],
   "source": [
    "def add(a,b,c):\n",
    " return a+b+c\n",
    " \n",
    "print(add(10,20,30)) # Sum of two numbers"
   ]
  },
  {
   "cell_type": "code",
   "execution_count": 272,
   "id": "c2f38e77",
   "metadata": {},
   "outputs": [
    {
     "name": "stdout",
     "output_type": "stream",
     "text": [
      "arg_1: 1\n",
      "arg_2: 2\n",
      "arg_3: 3\n"
     ]
    }
   ],
   "source": [
    "def some_args(arg_1, arg_2, arg_3):\n",
    " print(\"arg_1:\", arg_1)\n",
    " print(\"arg_2:\", arg_2)\n",
    " print(\"arg_3:\", arg_3)\n",
    "my_list = [2, 3]\n",
    "some_args(1, *my_list)"
   ]
  },
  {
   "cell_type": "code",
   "execution_count": 277,
   "id": "9d8fb8bb",
   "metadata": {},
   "outputs": [
    {
     "name": "stdout",
     "output_type": "stream",
     "text": [
      "{'Name': 'Asif', 'ID': 7412, 'Pincode': 41102, 'Age': 33, 'Country': 'India', 'Language': 'Hindi'}\n"
     ]
    }
   ],
   "source": [
    "def UserDetails(**kwargs):\n",
    "  print(kwargs)\n",
    "UserDetails(Name = 'Asif', ID = 7412, Pincode = 41102, Age = 33, Country = 'India',\n",
    "Language = 'Hindi')"
   ]
  },
  {
   "cell_type": "code",
   "execution_count": 278,
   "id": "9df8a096",
   "metadata": {},
   "outputs": [
    {
     "name": "stdout",
     "output_type": "stream",
     "text": [
      "Name :- Asif\n",
      "ID :- 7412\n",
      "Pincode :- 41102\n",
      "Age :- 33\n",
      "Country :- India\n",
      "Language :- Hindi\n"
     ]
    }
   ],
   "source": [
    "def UserDetails(**kwargs):\n",
    " for key,val in kwargs.items():\n",
    "  print(\"{} :- {}\".format(key,val))\n",
    "UserDetails(Name = 'Asif', ID = 7412, Pincode = 41102, Age = 33, Country = 'India',\n",
    "Language = 'Hindi')"
   ]
  },
  {
   "cell_type": "markdown",
   "id": "3bdb681b",
   "metadata": {},
   "source": [
    "lambda, filter(), map(), and reduce() are powerful tools for functional programming."
   ]
  },
  {
   "cell_type": "markdown",
   "id": "c0a96223",
   "metadata": {},
   "source": [
    "Lambda Functions:\n",
    "- Lambda functions, also known as anonymous functions, are small, one-line functions defined using the lambda keyword. They are often used for short operations where defining a full function is unnecessary."
   ]
  },
  {
   "cell_type": "code",
   "execution_count": 279,
   "id": "23aa281e",
   "metadata": {},
   "outputs": [
    {
     "name": "stdout",
     "output_type": "stream",
     "text": [
      "10\n"
     ]
    }
   ],
   "source": [
    "double = lambda x: x * 2\n",
    "print(double(5))  # Output: 10\n"
   ]
  },
  {
   "cell_type": "markdown",
   "id": "bc5f5838",
   "metadata": {},
   "source": [
    "filter():\n",
    "- The filter() function filters elements from an iterable (like a list) based on a function that returns True or False for each element. It returns an iterator containing only the elements for which the function returns True."
   ]
  },
  {
   "cell_type": "code",
   "execution_count": 281,
   "id": "9d8a4cbf",
   "metadata": {},
   "outputs": [
    {
     "name": "stdout",
     "output_type": "stream",
     "text": [
      "[2, 4, 6, 8, 10]\n"
     ]
    }
   ],
   "source": [
    "numbers = [1, 2, 3, 4, 5, 6, 7, 8, 9, 10]\n",
    "even_numbers = list(filter(lambda x: x % 2 == 0, numbers))\n",
    "print(even_numbers)  # Output: [2, 4, 6, 8, 10]\n"
   ]
  },
  {
   "cell_type": "markdown",
   "id": "34447093",
   "metadata": {},
   "source": [
    "map():\n",
    "The map() function applies a given function to each item of an iterable (like a list) and returns an iterator of the results."
   ]
  },
  {
   "cell_type": "code",
   "execution_count": 282,
   "id": "483b7b2c",
   "metadata": {},
   "outputs": [
    {
     "name": "stdout",
     "output_type": "stream",
     "text": [
      "[1, 4, 9, 16, 25]\n"
     ]
    }
   ],
   "source": [
    "numbers = [1, 2, 3, 4, 5]\n",
    "squared_numbers = list(map(lambda x: x ** 2, numbers))\n",
    "print(squared_numbers)  # Output: [1, 4, 9, 16, 25]\n"
   ]
  },
  {
   "cell_type": "markdown",
   "id": "5f62b6fc",
   "metadata": {},
   "source": [
    "reduce():\n",
    "- The reduce() function, unlike map() and filter(), is not a built-in function in Python 3. Instead, it is part of the functools module. It performs a rolling computation on a sequential pair of elements in an iterable, using a function that takes two arguments and returns a single result.\n",
    "\n",
    "- Example (requires importing reduce from functools):"
   ]
  },
  {
   "cell_type": "code",
   "execution_count": 284,
   "id": "a4e9f6df",
   "metadata": {},
   "outputs": [
    {
     "name": "stdout",
     "output_type": "stream",
     "text": [
      "15\n"
     ]
    }
   ],
   "source": [
    "from functools import reduce\n",
    "\n",
    "numbers = [1, 2, 3, 4, 5]\n",
    "sum_of_numbers = reduce(lambda x, y: x + y, numbers)\n",
    "print(sum_of_numbers)  # Output: 15 (1 + 2 + 3 + 4 + 5)\n"
   ]
  },
  {
   "cell_type": "code",
   "execution_count": 286,
   "id": "b3f5a24c",
   "metadata": {},
   "outputs": [
    {
     "data": {
      "text/plain": [
       "(6000, 12000000)"
      ]
     },
     "execution_count": 286,
     "metadata": {},
     "output_type": "execute_result"
    }
   ],
   "source": [
    "# User defined function to find product of numbers\n",
    "def product(nums): \n",
    " total = 1\n",
    " for i in nums:\n",
    "  total *= i \n",
    " return total\n",
    "# This lambda function can take any number of arguments and return thier product.\n",
    "res1 = (lambda **kwargs: product(kwargs.values())) \n",
    "res1(a = 10 , b= 20 , c = 30) , res1(a = 10 , b= 20 , c = 30, d = 40 , e = 50)"
   ]
  },
  {
   "cell_type": "code",
   "execution_count": 287,
   "id": "807daa67",
   "metadata": {},
   "outputs": [
    {
     "data": {
      "text/plain": [
       "(60, 150)"
      ]
     },
     "execution_count": 287,
     "metadata": {},
     "output_type": "execute_result"
    }
   ],
   "source": [
    "res1 = (lambda **kwargs: sum(kwargs.values()))\n",
    "res1(a = 10 , b= 20 , c = 30) , res1(a = 10 , b= 20 , c = 30, d = 40 , e = 50)"
   ]
  },
  {
   "cell_type": "code",
   "execution_count": 288,
   "id": "f6cf1c88",
   "metadata": {},
   "outputs": [
    {
     "name": "stdout",
     "output_type": "stream",
     "text": [
      "--------\n",
      "[2, 4, 6, 8, 10]\n",
      "[1, 3, 5, 7, 9]\n",
      "--------\n",
      "['TWO', 'FOUR']\n",
      "['one', 'three']\n",
      "--------\n",
      "['one']\n",
      "['88', '99', '102']\n",
      "['one', 'two2', 'three3', '88', '99', '102']\n",
      "--------\n"
     ]
    }
   ],
   "source": [
    "list1 = [1,2,3,4,5,6,7,8,9,10]\n",
    "even = list(filter(lambda n: n%2 ==0 ,list1)) \n",
    "odd = list(filter(lambda n: n%2 !=0 ,list1)) \n",
    "print('--------')\n",
    "print(even)\n",
    "print(odd)\n",
    "print('--------')\n",
    "list2 = ['one' , 'TWO' , 'three' , 'FOUR']\n",
    "upper = list(filter(lambda x: x.isupper() , list2))\n",
    "lower = list(filter(lambda x: x.islower() , list2)) \n",
    "print(upper)\n",
    "print(lower)\n",
    "print('--------')\n",
    "list3 = ['one' , 'two2' , 'three3' ,'88' , '99' , '102']\n",
    "numeric = list(filter(lambda x:x.isnumeric(), list3)) \n",
    "alpha = list(filter(lambda x:x.isalpha(), list3)) \n",
    "alphanum = list(filter(lambda x:x.isalnum(), list3))  \n",
    "print(alpha)\n",
    "print(numeric)\n",
    "print(alphanum)\n",
    "print('--------')\n",
    "#Vowel"
   ]
  },
  {
   "cell_type": "code",
   "execution_count": 291,
   "id": "7dadbab7",
   "metadata": {},
   "outputs": [
    {
     "data": {
      "text/plain": [
       "(1, 4)"
      ]
     },
     "execution_count": 291,
     "metadata": {},
     "output_type": "execute_result"
    }
   ],
   "source": [
    "def min_func(a, b):\n",
    " return a if a < b else b\n",
    "def max_func(a, b):\n",
    " return a if a > b else b\n",
    "min_num = reduce(min_func, list2) # Minimum number in the list using reduce () & \n",
    "max_num = reduce(max_func, list2) # Maximum number in the list using reduce () & \n",
    "min_num , max_num"
   ]
  },
  {
   "cell_type": "markdown",
   "id": "8ac80d23",
   "metadata": {},
   "source": [
    "# Classes\n",
    "In Python, a class is a blueprint for creating objects, and an object is an instance of a class. Classes define the properties (attributes) and behaviors (methods) that objects of that class will have. Here's an example to illustrate classes and objects in Python:"
   ]
  },
  {
   "cell_type": "code",
   "execution_count": 292,
   "id": "63a7a595",
   "metadata": {},
   "outputs": [
    {
     "name": "stdout",
     "output_type": "stream",
     "text": [
      "Buddy\n",
      "5\n",
      "Buddy says woof!\n",
      "Max is now 6 years old.\n"
     ]
    }
   ],
   "source": [
    "class Dog:\n",
    "    def __init__(self, name, age):\n",
    "        self.name = name\n",
    "        self.age = age\n",
    "    \n",
    "    def bark(self):\n",
    "        print(f\"{self.name} says woof!\")\n",
    "    \n",
    "    def celebrate_birthday(self):\n",
    "        self.age += 1\n",
    "        print(f\"{self.name} is now {self.age} years old.\")\n",
    "\n",
    "# Creating objects (instances) of the Dog class\n",
    "dog1 = Dog(\"Buddy\", 3)\n",
    "dog2 = Dog(\"Max\", 5)\n",
    "\n",
    "# Accessing attributes and calling methods of objects\n",
    "print(dog1.name)  # Output: Buddy\n",
    "print(dog2.age)   # Output: 5\n",
    "\n",
    "dog1.bark()  # Output: Buddy says woof!\n",
    "dog2.celebrate_birthday()  # Output: Max is now 6 years old.\n"
   ]
  },
  {
   "cell_type": "markdown",
   "id": "ddf595ca",
   "metadata": {},
   "source": [
    "In this example:\n",
    "\n",
    "- We define a class Dog with two attributes (name and age) and two methods (bark and celebrate_birthday).\n",
    "- The __init__ method is a special method called a constructor, which initializes new objects of the class.\n",
    "- We create two instances of the Dog class, dog1 and dog2, with specific names and ages.\n",
    "- We access the attributes (name and age) and call methods (bark and celebrate_birthday) on these objects."
   ]
  },
  {
   "cell_type": "markdown",
   "id": "180ea51d",
   "metadata": {},
   "source": [
    "Classes provide a way to structure and organize code by grouping related data and functions together. Objects created from classes can store data (attributes) and perform actions (methods), making them a fundamental part of object-oriented programming (OOP) in Python."
   ]
  },
  {
   "cell_type": "code",
   "execution_count": 294,
   "id": "b62a29e0",
   "metadata": {},
   "outputs": [
    {
     "name": "stdout",
     "output_type": "stream",
     "text": [
      "10\n"
     ]
    }
   ],
   "source": [
    "# Create a class with property \"var1\"\n",
    "class myclass:\n",
    " var1 = 10\n",
    " \n",
    "obj1 = myclass() # Create an object of class \"myclass()\"\n",
    "print(obj1.var1)"
   ]
  },
  {
   "cell_type": "markdown",
   "id": "166817e6",
   "metadata": {},
   "source": [
    "# Inheritance\n",
    "- Inheritance is a fundamental concept in object-oriented programming (OOP) that allows a class (called a subclass or derived class) to inherit attributes and methods from another class (called a superclass or base class). This enables code reuse and promotes the concept of hierarchical classification.\n",
    "\n",
    "- In Python, inheritance is achieved by specifying the superclass name inside parentheses after the subclass name in the class definition. Here's an example to illustrate inheritance:"
   ]
  },
  {
   "cell_type": "code",
   "execution_count": 296,
   "id": "0bb9766a",
   "metadata": {},
   "outputs": [
    {
     "name": "stdout",
     "output_type": "stream",
     "text": [
      "Buddy says woof!\n",
      "Max says meow!\n"
     ]
    }
   ],
   "source": [
    "class Animal:\n",
    "    def __init__(self, name):\n",
    "        self.name = name\n",
    "    \n",
    "    def speak(self):\n",
    "        raise NotImplementedError(\"Subclasses must implement this method\")\n",
    "\n",
    "class Dog(Animal):\n",
    "    def speak(self):\n",
    "        return f\"{self.name} says woof!\"\n",
    "\n",
    "class Cat(Animal):\n",
    "    def speak(self):\n",
    "        return f\"{self.name} says meow!\"\n",
    "\n",
    "# Creating instances of subclasses\n",
    "dog = Dog(\"Buddy\")\n",
    "cat = Cat(\"Max\")\n",
    "\n",
    "# Calling the speak method of each subclass\n",
    "print(dog.speak())  # Output: Buddy says woof!\n",
    "print(cat.speak())  # Output: Max says meow!\n"
   ]
  },
  {
   "cell_type": "markdown",
   "id": "7b2383d1",
   "metadata": {},
   "source": [
    "In this example:\n",
    "\n",
    "-  We have a superclass Animal with an __init__ method and a speak method.\n",
    "- The speak method in the Animal class raises a NotImplementedError, indicating that subclasses must implement this method.\n",
    "- We define two subclasses Dog and Cat, which inherit from the Animal superclass.\n",
    "- Each subclass provides its own implementation of the speak method.\n",
    "- When we create instances of the subclasses (dog and cat) and call the speak method on them, each instance uses its own implementation of the method.\n",
    "- Inheritance allows us to create a hierarchy of classes, where subclasses can inherit and extend the functionality of their superclass. It promotes code reuse, modularity, and makes the code more organized and easier to maintain."
   ]
  },
  {
   "cell_type": "code",
   "execution_count": 304,
   "id": "aa33afeb",
   "metadata": {},
   "outputs": [
    {
     "name": "stdout",
     "output_type": "stream",
     "text": [
      "Student Details\n",
      "---------------\n",
      "Name :- Dipali\n",
      "Age :- 24\n",
      "Gender :- Female\n",
      "Student ID :- 145\n",
      "Fees :- 1200\n",
      "\n",
      "Employee Details\n",
      "---------------\n",
      "Name :- jija\n",
      "Age :- 26\n",
      "Gender :- Male\n",
      "Employee ID :- 456\n",
      "Salary :- 80000\n"
     ]
    }
   ],
   "source": [
    "class person: # Parent Class\n",
    "    def __init__(self, name , age , gender):\n",
    "        self.name = name\n",
    "        self.age = age\n",
    "        self.gender = gender\n",
    "    def PersonInfo(self):\n",
    "        print('Name :- {}'.format(self.name))\n",
    "        print('Age :- {}'.format(self.age))\n",
    "        print('Gender :- {}'.format(self.gender))\n",
    "class student(person): # Child Class\n",
    "    def __init__(self,name,age,gender,studentid,fees):\n",
    "        person.__init__(self,name,age,gender)\n",
    "        self.studentid = studentid\n",
    "        self.fees = fees\n",
    "    def StudentInfo(self):\n",
    "        print('Student ID :- {}'.format(self.studentid))\n",
    "        print('Fees :- {}'.format(self.fees))\n",
    "class teacher(person): # Child Class\n",
    "    def __init__(self,name,age,gender,empid,salary):\n",
    "        person.__init__(self,name,age,gender)\n",
    "        self.empid = empid\n",
    "        self.salary = salary\n",
    "    def TeacherInfo(self):\n",
    "        print('Employee ID :- {}'.format(self.empid))\n",
    "        print('Salary :- {}'.format(self.salary))\n",
    " \n",
    "stud1 = student('Dipali' , 24 , 'Female' , 145 , 1200)\n",
    "print('Student Details')\n",
    "print('---------------')\n",
    "stud1.PersonInfo() # PersonInfo() method presnt in Parent Class will be access\n",
    "stud1.StudentInfo()\n",
    "print()\n",
    "teacher1 = teacher('jija' , 26 , 'Male' , 456 , 80000)\n",
    "print('Employee Details')\n",
    "print('---------------')\n",
    "teacher1.PersonInfo() # PersonInfo() method presnt in Parent Class will be acc\n",
    "teacher1.TeacherInfo()"
   ]
  },
  {
   "cell_type": "markdown",
   "id": "cfcd8642",
   "metadata": {},
   "source": [
    "# Multi-level Inheritance\n",
    "- In this type of inheritance, a class can inherit from a child class or derived class.\n",
    "- Multilevel Inheritance can be of any depth in python"
   ]
  },
  {
   "cell_type": "markdown",
   "id": "dbefc4d2",
   "metadata": {},
   "source": [
    "Multi-level inheritance refers to the concept where a derived class (subclass) inherits from another derived class, creating a hierarchical structure of classes. In multi-level inheritance, a class can inherit attributes and methods not only from its direct superclass but also from the superclass of its superclass, and so on. This forms a chain of inheritance.\n",
    "\n",
    "Here's an example of multi-level inheritance in Python:"
   ]
  },
  {
   "cell_type": "code",
   "execution_count": 305,
   "id": "dbb241e6",
   "metadata": {},
   "outputs": [
    {
     "name": "stdout",
     "output_type": "stream",
     "text": [
      "Buddy says woof!\n",
      "Buddy is fetching the ball.\n"
     ]
    }
   ],
   "source": [
    "class Animal:\n",
    "    def __init__(self, name):\n",
    "        self.name = name\n",
    "    \n",
    "    def speak(self):\n",
    "        raise NotImplementedError(\"Subclasses must implement this method\")\n",
    "\n",
    "class Dog(Animal):\n",
    "    def speak(self):\n",
    "        return f\"{self.name} says woof!\"\n",
    "\n",
    "class Labrador(Dog):\n",
    "    def fetch(self):\n",
    "        return f\"{self.name} is fetching the ball.\"\n",
    "\n",
    "# Creating an instance of the subclass Labrador\n",
    "labrador = Labrador(\"Buddy\")\n",
    "\n",
    "# Calling methods from both the Labrador class and its superclasses\n",
    "print(labrador.speak())  # Output: Buddy says woof!\n",
    "print(labrador.fetch())  # Output: Buddy is fetching the ball.\n"
   ]
  },
  {
   "cell_type": "markdown",
   "id": "734b4694",
   "metadata": {},
   "source": [
    "In this example:\n",
    "\n",
    "- We have a superclass Animal with an __init__ method and a speak method.\n",
    "- We define a subclass Dog that inherits from the Animal superclass and provides its own implementation of the speak method.\n",
    "- We further define a subclass Labrador that inherits from the Dog subclass and provides its own method fetch.\n",
    "- When we create an instance of the Labrador class (labrador) and call its methods (speak and fetch), it can access methods from both the Dog class (its immediate superclass) and the Animal class (the superclass of its superclass).\n",
    "- Multi-level inheritance allows for creating complex class hierarchies where each subclass can inherit behavior and characteristics from its superclass and extend them further. However, it's important to use multi-level inheritance judiciously to avoid creating overly complex and tightly coupled class structures.\n",
    "\n",
    "\n",
    "\n",
    "\n",
    "\n"
   ]
  },
  {
   "cell_type": "markdown",
   "id": "c53cf270",
   "metadata": {},
   "source": [
    "# Multiple inheritance \n",
    "- Multiple inheritance refers to the concept where a class can inherit attributes and methods from more than one parent class. This means a subclass can have multiple superclasses. In Python, multiple inheritance is supported, allowing for complex class hierarchies and greater flexibility in code organization.\n",
    "\n",
    "- Here's an example to illustrate multiple inheritance in Python:"
   ]
  },
  {
   "cell_type": "code",
   "execution_count": 306,
   "id": "a85467df",
   "metadata": {},
   "outputs": [
    {
     "name": "stdout",
     "output_type": "stream",
     "text": [
      "Flying\n",
      "Running\n"
     ]
    }
   ],
   "source": [
    "class Bird:\n",
    "    def fly(self):\n",
    "        return \"Flying\"\n",
    "\n",
    "class Horse:\n",
    "    def run(self):\n",
    "        return \"Running\"\n",
    "\n",
    "class Pegasus(Bird, Horse):\n",
    "    pass\n",
    "\n",
    "# Creating an instance of the Pegasus class\n",
    "pegasus = Pegasus()\n",
    "\n",
    "# Calling methods from both parent classes\n",
    "print(pegasus.fly())  # Output: Flying\n",
    "print(pegasus.run())  # Output: Running\n"
   ]
  },
  {
   "cell_type": "markdown",
   "id": "33565893",
   "metadata": {},
   "source": [
    "In this example:\n",
    "\n",
    "- two parent classes are considerd, Bird and Horse, each with its own method (fly and run respectively).\n",
    "- define a subclass Pegasus that inherits from both Bird and Horse classes.\n",
    "- The Pegasus class does not provide any additional methods or attributes of its own.\n",
    "- When an instance of the Pegasus class (pegasus) created and  its methods (fly and run) were called, it can access methods from both the Bird class and the Horse class.\n",
    "- Multiple inheritance allows for reusing code across different class hierarchies and combining functionalities from multiple sources. However, it can lead to complex relationships between classes and potential issues such as the diamond problem (ambiguity when multiple parent classes define the same method or attribute). "
   ]
  },
  {
   "cell_type": "markdown",
   "id": "9c4174b8",
   "metadata": {},
   "source": [
    "# Method overriding\n",
    "- Method overriding in Python refers to the ability of a subclass to provide a specific implementation of a method that is already defined in its superclass. When a subclass overrides a method, it replaces the implementation of that method in the superclass with its own implementation.\n",
    "\n",
    "- Here's an example to illustrate method overriding in Python:\n",
    "\n"
   ]
  },
  {
   "cell_type": "code",
   "execution_count": 313,
   "id": "f7b5903d",
   "metadata": {},
   "outputs": [
    {
     "name": "stdout",
     "output_type": "stream",
     "text": [
      "Animal speaks\n",
      "Dog barks\n"
     ]
    }
   ],
   "source": [
    "class Animal:\n",
    "    def speak(self):\n",
    "        return \"Animal speaks\"\n",
    "\n",
    "class Dog(Animal):\n",
    "    def speak(self):\n",
    "        return \"Dog barks\"\n",
    "\n",
    "# Creating instances of the classes\n",
    "animal = Animal()\n",
    "dog = Dog()\n",
    "\n",
    "# Calling the speak method on instances\n",
    "print(animal.speak())  # Output: Animal speaks\n",
    "print(dog.speak())     # Output: Dog barks\n"
   ]
  },
  {
   "cell_type": "markdown",
   "id": "32770e9a",
   "metadata": {},
   "source": [
    "In this example:\n",
    "\n",
    "-  a superclass Animal with a speak method that returns \"Animal speaks\".\n",
    "- define a subclass Dog that inherits from the Animal superclass and overrides the speak method with its own implementation that returns \"Dog barks\".\n",
    "- When create instances of the Animal and Dog classes and call the speak method on them, each instance uses its own implementation of the method.\n",
    "- Method overriding allows subclasses to customize the behavior of inherited methods to better suit their specific needs. It promotes polymorphism, where objects of different classes can respond to the same method call in different ways. This flexibility is a key feature of object-oriented programming in Python."
   ]
  },
  {
   "cell_type": "markdown",
   "id": "1b841d3a",
   "metadata": {},
   "source": [
    "# Container\n",
    "- Containers are data structures that hold data values.\n",
    "- They support membership tests which means they use to check whether a value exists in the\n",
    "container or not.\n",
    "- Generally containers provide a way to access the contained objects and to iterate over them.\n",
    "- Examples of containers include tuple, list, set, dict, str"
   ]
  },
  {
   "cell_type": "markdown",
   "id": "f225815f",
   "metadata": {},
   "source": [
    "# Generators\n",
    "Generators in Python are functions that allow to generate a sequence of values lazily, on-the-fly, using the yield keyword. Unlike normal functions that return a single value and then exit, generators can yield multiple values one at a time, pausing and resuming execution as needed. This makes them memory efficient and suitable for handling large datasets or infinite sequences.\n",
    "\n",
    "Here's an example of a generator function:"
   ]
  },
  {
   "cell_type": "code",
   "execution_count": 315,
   "id": "d5f492b3",
   "metadata": {},
   "outputs": [
    {
     "name": "stdout",
     "output_type": "stream",
     "text": [
      "5\n",
      "4\n",
      "3\n",
      "2\n",
      "1\n"
     ]
    }
   ],
   "source": [
    "def countdown(n):\n",
    "    while n > 0:\n",
    "        yield n\n",
    "        n -= 1\n",
    "\n",
    "# Using the generator to iterate over the sequence\n",
    "for num in countdown(5):\n",
    "    print(num)\n"
   ]
  },
  {
   "cell_type": "markdown",
   "id": "22bd9fa9",
   "metadata": {},
   "source": [
    "In this example:\n",
    "\n",
    "- define a generator function countdown that yields values from n down to 1.\n",
    "- The yield keyword is used to produce a value from the generator and temporarily suspend execution.\n",
    "- Each time the generator is iterated over (in this case, using a for loop), it resumes execution from where it left off, producing the next value.\n",
    "- Generators are useful in scenarios where need to generate a large sequence of values, but not to store the entire sequence in memory at once. They are commonly used with functions like range() to produce sequences, and they can also be used to implement infinite sequences or stream processing"
   ]
  },
  {
   "cell_type": "markdown",
   "id": "aeafaa3d",
   "metadata": {},
   "source": [
    "# Decorators\n",
    "\n",
    "- Decorators in Python are functions that modify the behavior of other functions or methods. They allow  to add functionality to existing functions without modifying their code directly. Decorators are widely used for tasks such as logging, authentication, caching, and more.\n",
    "\n",
    "- In Python, decorators are implemented using functions or classes. They take a function as input, wrap it with additional functionality, and return a new function or method.\n",
    "\n",
    "- Here's a basic example of a decorator function:"
   ]
  },
  {
   "cell_type": "code",
   "execution_count": 317,
   "id": "8811813d",
   "metadata": {},
   "outputs": [
    {
     "name": "stdout",
     "output_type": "stream",
     "text": [
      "Something is happening before the function is called.\n",
      "Hello!\n",
      "Something is happening after the function is called.\n"
     ]
    }
   ],
   "source": [
    "def my_decorator(func):\n",
    "    def wrapper():\n",
    "        print(\"Something is happening before the function is called.\")\n",
    "        func()\n",
    "        print(\"Something is happening after the function is called.\")\n",
    "    return wrapper\n",
    "\n",
    "@my_decorator\n",
    "def say_hello():\n",
    "    print(\"Hello!\")\n",
    "\n",
    "say_hello()\n"
   ]
  },
  {
   "cell_type": "markdown",
   "id": "b7852c4a",
   "metadata": {},
   "source": [
    "In this example:\n",
    "\n",
    "- define a decorator function my_decorator that takes a function (func) as input.\n",
    "- Inside my_decorator, define a nested function wrapper that adds additional functionality before and after calling func.\n",
    "- The original function func is called within the wrapper function.\n",
    "- use the @ syntax to apply the my_decorator to the say_hello function.\n",
    "- When say_hello is called, it is actually the wrapped version of the function that gets executed, including the additional behavior defined in the decorator.\n",
    "- Decorators provide a clean and concise way to extend the functionality of functions and methods in Python. They promote code reusability, separation of concerns, and maintainability. You can also chain multiple decorators to a single function, allowing for complex behavior modification.\n",
    "- Advantages -\n",
    "- Logging & debugging\n",
    "- Access control and authentication\n",
    "\n",
    "\n",
    "\n",
    "\n",
    "\n"
   ]
  },
  {
   "cell_type": "code",
   "execution_count": 319,
   "id": "ddcbabaa",
   "metadata": {},
   "outputs": [
    {
     "name": "stdout",
     "output_type": "stream",
     "text": [
      "Result is :-  2\n",
      "Result is :-  -2\n"
     ]
    }
   ],
   "source": [
    "def subtract(num1 , num2):\n",
    " res = num1 - num2\n",
    " print('Result is :- ', res)\n",
    " \n",
    "subtract(4,2)\n",
    "subtract(2,4)"
   ]
  },
  {
   "cell_type": "code",
   "execution_count": 324,
   "id": "878af7c2",
   "metadata": {},
   "outputs": [
    {
     "name": "stdout",
     "output_type": "stream",
     "text": [
      "Result is :-  2\n"
     ]
    }
   ],
   "source": [
    "def sub_decorator(func):\n",
    "    def wrapper(num1,num2):\n",
    "        if num1 < num2:\n",
    "            num1,num2 = num2,num1\n",
    "            return func(num1,num2)\n",
    "    return wrapper\n",
    "sub = sub_decorator(subtract)\n",
    "sub(2,4)"
   ]
  },
  {
   "cell_type": "code",
   "execution_count": 325,
   "id": "1021d065",
   "metadata": {},
   "outputs": [
    {
     "name": "stdout",
     "output_type": "stream",
     "text": [
      "Result is :-  2\n"
     ]
    }
   ],
   "source": [
    "@sub_decorator # we can use @ syntax for decorating a function in one step\n",
    "def subtract(num1 , num2):\n",
    "    res = num1 - num2\n",
    "    print('Result is :- ', res)\n",
    "subtract(2,4)"
   ]
  },
  {
   "cell_type": "markdown",
   "id": "08ca585e",
   "metadata": {},
   "source": [
    "# File Management\n",
    "File management in Python involves operations related to reading from and writing to files. Python provides built-in functions and modules to perform file operations efficiently. \n"
   ]
  },
  {
   "cell_type": "markdown",
   "id": "28e0fae4",
   "metadata": {},
   "source": [
    "Opening a File:\n",
    "-  built-in open() function use to open a file. It takes two arguments: the file path and the mode (read, write, append, etc.).\n",
    "\n"
   ]
  },
  {
   "cell_type": "code",
   "execution_count": null,
   "id": "ba8f2765",
   "metadata": {},
   "outputs": [],
   "source": [
    "# Opening a file for reading\n",
    "file = open(\"example.txt\", \"r\")\n",
    "\n",
    "# Opening a file for writing (creating a new file if it doesn't exist)\n",
    "file = open(\"output.txt\", \"w\")\n",
    "\n",
    "# Opening a file for appending\n",
    "file = open(\"log.txt\", \"a\")\n"
   ]
  },
  {
   "cell_type": "markdown",
   "id": "19baea76",
   "metadata": {},
   "source": [
    "Reading from a File:\n",
    "-  read(), readline(), or readlines() this are the methods used to read the contents of a file."
   ]
  },
  {
   "cell_type": "code",
   "execution_count": null,
   "id": "73bab40b",
   "metadata": {},
   "outputs": [],
   "source": [
    "# Reading the entire contents of the file\n",
    "contents = file.read()\n",
    "\n",
    "# Reading a single line from the file\n",
    "line = file.readline()\n",
    "\n",
    "# Reading all lines into a list\n",
    "lines = file.readlines()\n"
   ]
  },
  {
   "cell_type": "markdown",
   "id": "ed0e578c",
   "metadata": {},
   "source": [
    "Writing to a File:\n",
    "- write() method ia use to  write data to a file."
   ]
  },
  {
   "cell_type": "code",
   "execution_count": null,
   "id": "f48ad0ad",
   "metadata": {},
   "outputs": [],
   "source": [
    "file.write(\"Hello, World!\\n\")\n"
   ]
  },
  {
   "cell_type": "markdown",
   "id": "6cdbb933",
   "metadata": {},
   "source": [
    "Closing a File:\n",
    "- After performing file operations, it's important to close the file using the close() method to free up system resources."
   ]
  },
  {
   "cell_type": "code",
   "execution_count": null,
   "id": "46e22f21",
   "metadata": {},
   "outputs": [],
   "source": [
    "file.close()\n"
   ]
  },
  {
   "cell_type": "markdown",
   "id": "c9562745",
   "metadata": {},
   "source": [
    "Context Managers (with Statement):\n",
    "- Python's with statement provides a more elegant way to work with files. It automatically takes care of opening and closing the file."
   ]
  },
  {
   "cell_type": "code",
   "execution_count": null,
   "id": "022b53d3",
   "metadata": {},
   "outputs": [],
   "source": [
    "with open(\"example.txt\", \"r\") as file:\n",
    "    contents = file.read()\n",
    "    # File is automatically closed when exiting the `with` block\n"
   ]
  },
  {
   "cell_type": "markdown",
   "id": "a11b2b5b",
   "metadata": {},
   "source": [
    "File Modes:\n",
    "- \"r\" : Read mode (default). Opens a file for reading.\n",
    "- \"w\" : Write mode. Opens a file for writing. Creates a new file if it doesn't exist or truncates the file if it exists.\n",
    "- \"a\" : Append mode. Opens a file for appending data. Creates a new file if it doesn't exist.\n",
    "- \"b\" : Binary mode. Opens a file in binary mode.\n",
    "- \"t\" : Text mode (default). Opens a file in text mode."
   ]
  },
  {
   "cell_type": "markdown",
   "id": "70d290da",
   "metadata": {},
   "source": [
    "Additional File Operations:\n",
    "- Python's os module provides functions for file and directory management, including operations like renaming, deleting, and checking file existence."
   ]
  },
  {
   "cell_type": "code",
   "execution_count": null,
   "id": "58808253",
   "metadata": {},
   "outputs": [],
   "source": [
    "import os\n",
    "\n",
    "# Rename a file\n",
    "os.rename(\"old.txt\", \"new.txt\")\n",
    "\n",
    "# Delete a file\n",
    "os.remove(\"file.txt\")\n",
    "\n",
    "# Check if a file exists\n",
    "if os.path.exists(\"file.txt\"):\n",
    "    print(\"File exists.\")\n"
   ]
  },
  {
   "cell_type": "markdown",
   "id": "d33b2e75",
   "metadata": {},
   "source": [
    "File management in Python is a fundamental aspect of handling data and interacting with the file system. Understanding these operations is essential for various applications, such as data processing, logging, and configuration management."
   ]
  },
  {
   "cell_type": "code",
   "execution_count": null,
   "id": "1f3d806d",
   "metadata": {},
   "outputs": [],
   "source": [
    "fileobj.seek(0)\n",
    "fileobj.read(16) # Return the first 16 characters of the file\n",
    "fileobj.seek(7) # place file cursor at loc 7\n",
    "fileobj.read()\n",
    "fileobj.tell() # Get the file cursor position"
   ]
  },
  {
   "cell_type": "code",
   "execution_count": null,
   "id": "5debb13c",
   "metadata": {},
   "outputs": [],
   "source": [
    "fileobj.seek(0)\n",
    "print(fileobj.readline()) # Read first line of a file.\n",
    "print(fileobj.readline()) # Read second line of a file.\n",
    "print(fileobj.readline()) # Read third line of a file."
   ]
  },
  {
   "cell_type": "code",
   "execution_count": null,
   "id": "ee130b76",
   "metadata": {},
   "outputs": [],
   "source": [
    "# Read first 5 lines of a file using readline()\n",
    "fileobj.seek(0)\n",
    "count = 0\n",
    "for i in range(5):\n",
    " if (count < 5):\n",
    " print(fileobj.readline())\n",
    " else:\n",
    " break\n",
    " count+=1"
   ]
  },
  {
   "cell_type": "code",
   "execution_count": null,
   "id": "0a506643",
   "metadata": {},
   "outputs": [],
   "source": [
    "fileobj = open('test1.txt', 'a')\n",
    "fileobj.write('THIS IS THE NEW CONTENT APPENDED IN THE FILE') # Append content to file\n",
    "fileobj.close()\n",
    "fileobj = open('test1.txt')\n",
    "fileobj.read()"
   ]
  },
  {
   "cell_type": "code",
   "execution_count": null,
   "id": "64710392",
   "metadata": {},
   "outputs": [],
   "source": [
    "os.remove(\"test3.txt\") # Delete file"
   ]
  },
  {
   "cell_type": "markdown",
   "id": "d7a03bb4",
   "metadata": {},
   "source": [
    "# Exception Handling\n",
    "Exception handling in Python allows to gracefully handle errors and exceptions that occur during the execution of code. It prevents the program from crashing abruptly and provides a way to recover from errors or take alternative actions when something unexpected happens.\n"
   ]
  },
  {
   "cell_type": "markdown",
   "id": "a9e9052c",
   "metadata": {},
   "source": [
    "Try-Except Blocks:\n",
    "- The most common way to handle exceptions in Python is by using try and except blocks. The try block contains the code that may raise an exception, and the except block catches and handles the exception if it occurs."
   ]
  },
  {
   "cell_type": "code",
   "execution_count": 330,
   "id": "23a7beed",
   "metadata": {},
   "outputs": [
    {
     "name": "stdout",
     "output_type": "stream",
     "text": [
      "Error: Division by zero\n"
     ]
    }
   ],
   "source": [
    "try:\n",
    "    # Code that may raise an exception\n",
    "    x = 10 / 0\n",
    "except ZeroDivisionError:\n",
    "    # Handling the specific exception\n",
    "    print(\"Error: Division by zero\")\n"
   ]
  },
  {
   "cell_type": "markdown",
   "id": "03420c73",
   "metadata": {},
   "source": [
    "Multiple Except Blocks:\n",
    "- You can have multiple except blocks to handle different types of exceptions."
   ]
  },
  {
   "cell_type": "code",
   "execution_count": 332,
   "id": "ca24ae0f",
   "metadata": {},
   "outputs": [
    {
     "name": "stdout",
     "output_type": "stream",
     "text": [
      "Enter a number: 5\n"
     ]
    }
   ],
   "source": [
    "try:\n",
    "    x = int(input(\"Enter a number: \"))\n",
    "    y = 10 / x\n",
    "except ValueError:\n",
    "    print(\"Error: Invalid input\")\n",
    "except ZeroDivisionError:\n",
    "    print(\"Error: Division by zero\")\n"
   ]
  },
  {
   "cell_type": "markdown",
   "id": "139fd392",
   "metadata": {},
   "source": [
    "Catching All Exceptions:\n",
    "- use a single except block without specifying the exception type to catch all exceptions. However, this should be used sparingly as it may catch exceptions one didn't anticipate."
   ]
  },
  {
   "cell_type": "code",
   "execution_count": 333,
   "id": "16ce7c09",
   "metadata": {},
   "outputs": [
    {
     "name": "stdout",
     "output_type": "stream",
     "text": [
      "An error occurred\n"
     ]
    }
   ],
   "source": [
    "try:\n",
    "    # Code that may raise an exception\n",
    "    x = 10 / 0\n",
    "except:\n",
    "    # Handling any exception\n",
    "    print(\"An error occurred\")\n"
   ]
  },
  {
   "cell_type": "markdown",
   "id": "951dbf88",
   "metadata": {},
   "source": [
    "Finally Block:\n",
    "- finally block is used to execute cleanup code that should always run, regardless of whether an exception occurs or not."
   ]
  },
  {
   "cell_type": "code",
   "execution_count": 334,
   "id": "f7e0a09c",
   "metadata": {},
   "outputs": [
    {
     "name": "stdout",
     "output_type": "stream",
     "text": [
      "Error: Division by zero\n",
      "Exiting the try-except block\n"
     ]
    }
   ],
   "source": [
    "try:\n",
    "    # Code that may raise an exception\n",
    "    x = 10 / 0\n",
    "except ZeroDivisionError:\n",
    "    print(\"Error: Division by zero\")\n",
    "finally:\n",
    "    # Cleanup code\n",
    "    print(\"Exiting the try-except block\")\n"
   ]
  },
  {
   "cell_type": "markdown",
   "id": "eb9e8258",
   "metadata": {},
   "source": [
    "Raising Exceptions:\n",
    "it helps to raise exceptions manually using the raise statement."
   ]
  },
  {
   "cell_type": "code",
   "execution_count": null,
   "id": "e43dfff1",
   "metadata": {},
   "outputs": [],
   "source": [
    "x = -1\n",
    "if x < 0:\n",
    "    raise ValueError(\"Invalid value: x must be non-negative\")"
   ]
  },
  {
   "cell_type": "markdown",
   "id": "a6535c05",
   "metadata": {},
   "source": [
    "Exception handling is essential for writing robust and reliable Python code. It helps anticipate and handle errors gracefully, improving the overall robustness and user experience of applications."
   ]
  },
  {
   "cell_type": "code",
   "execution_count": 342,
   "id": "785ca568",
   "metadata": {},
   "outputs": [],
   "source": [
    "import nbconvert\n"
   ]
  }
 ],
 "metadata": {
  "kernelspec": {
   "display_name": "Python 3 (ipykernel)",
   "language": "python",
   "name": "python3"
  },
  "language_info": {
   "codemirror_mode": {
    "name": "ipython",
    "version": 3
   },
   "file_extension": ".py",
   "mimetype": "text/x-python",
   "name": "python",
   "nbconvert_exporter": "python",
   "pygments_lexer": "ipython3",
   "version": "3.9.7"
  }
 },
 "nbformat": 4,
 "nbformat_minor": 5
}
